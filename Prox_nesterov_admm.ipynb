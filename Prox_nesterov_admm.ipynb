{
 "cells": [
  {
   "cell_type": "code",
   "execution_count": 2,
   "metadata": {},
   "outputs": [],
   "source": [
    "import numpy as np\n",
    "import pandas as pd \n",
    "import matplotlib.pyplot as plt\n",
    "import pandas as pd\n",
    "#https://developers.google.com/machine-learning/crash-course/reducing-loss/stochastic-gradient-descent"
   ]
  },
  {
   "cell_type": "markdown",
   "metadata": {},
   "source": [
    "### Funkcje pomocnicze do algorytmów"
   ]
  },
  {
   "cell_type": "code",
   "execution_count": 19,
   "metadata": {},
   "outputs": [],
   "source": [
    "import copy\n",
    "\n",
    "\n",
    "def softmax_lasso(alpha,beta):\n",
    "    \n",
    "    #if beta > alpha:\n",
    "    #    return beta - alpha\n",
    "    b = copy.copy(beta)\n",
    "    \n",
    "    if np.any(b >alpha):\n",
    "        b[b > alpha] = b[b > alpha] - alpha\n",
    "    #elif beta < -alpha:\n",
    "    #    return beta + alpha\n",
    "    if np.any(b < (-alpha)):\n",
    "        b[b < -alpha] = b[b < -alpha] + alpha\n",
    "    #else:\n",
    "    #    return 0\n",
    "    if np.any((b > - alpha)&(b < alpha)):\n",
    "        b[(b > - alpha)&(b < alpha)]  = 0\n",
    "    \n",
    "    return b\n",
    "\n",
    "\n",
    "def grad_lasso(X,y,alpha,beta):\n",
    "    n = X.shape[0]\n",
    "    ols = -2 * X.T @ (y - X @ beta) /n\n",
    "    soft = softmax_lasso(alpha,beta) \n",
    "    return ols + soft\n",
    "\n",
    "\n",
    "def loss_function(X,y,beta,alpha):\n",
    "    return np.sum((y - X @ beta)**2)/X.shape[0] + alpha * np.sum(abs(beta))\n",
    "\n",
    "def square_grad(X,y,w):\n",
    "    return X.T @ (X @ w - y)"
   ]
  },
  {
   "cell_type": "markdown",
   "metadata": {},
   "source": [
    "### Dane na których porównuje efektywność algorytmu "
   ]
  },
  {
   "cell_type": "code",
   "execution_count": 21,
   "metadata": {},
   "outputs": [],
   "source": [
    "alpha = 0.5\n",
    "dim = 30\n",
    "N = 100\n",
    "np.random.seed(50)\n",
    "beta = np.random.randn(30)\n",
    "w = np.random.randn(30)\n",
    "X =np.random.multivariate_normal([0.0]*dim, np.eye(dim), size = N)\n",
    "y = X @ w"
   ]
  },
  {
   "cell_type": "markdown",
   "metadata": {},
   "source": [
    "### Znaleziony algorytm na kagglu opierający się tylko na pochodnych i soft-thresholding, nieskuteczny dla dużych danych\n",
    "https://www.kaggle.com/residentmario/soft-thresholding-with-lasso-regression"
   ]
  },
  {
   "cell_type": "code",
   "execution_count": 5,
   "metadata": {},
   "outputs": [],
   "source": [
    "def kaggle_lasso(X,y,beta,alpha,lr):\n",
    "\n",
    "#   lr = 0.1\n",
    "    loss = []\n",
    "    for iter in range(100):\n",
    "        #print(iter,\"\\n\")\n",
    "        loss.append(loss_function(X,y,beta,alpha))\n",
    "        n = X.shape[0]\n",
    "        ols = -2 * X.T @ (y - X @ beta) /n\n",
    "        soft = softmax_lasso(alpha*lr,beta) \n",
    "    \n",
    "        grad = soft + ols\n",
    "        beta = beta - lr * grad\n",
    "\n",
    "        if iter % 50 == 0:\n",
    "            print(f\"Loss of the function {loss_function(X,y,beta,alpha)}\")\n",
    "    \n",
    "\n",
    "    plt.plot(np.arange(len(loss)),loss,'g',linewidth = 2, label = 'Kaggle function')\n",
    "    plt.legend(prop={'size':12})\n",
    "    plt.xlabel('Iteration')\n",
    "    plt.ylabel('Loss')\n",
    "    \n",
    "    return loss"
   ]
  },
  {
   "cell_type": "markdown",
   "metadata": {},
   "source": [
    "### Proximate gradient"
   ]
  },
  {
   "cell_type": "code",
   "execution_count": 6,
   "metadata": {},
   "outputs": [],
   "source": [
    "def proximate_grad(X,y,beta,alpha,lr):\n",
    "\n",
    "    #lr= 0.0001\n",
    "    loss_prox = []\n",
    "\n",
    "    for iter in range(100):\n",
    "        #print(iter,\"\\n\")\n",
    "        loss = loss_function(X,y,beta,alpha)\n",
    "        beta = beta - lr * square_grad(X,y,beta)\n",
    "        beta = softmax_lasso(alpha*lr,beta)\n",
    "        loss_prox.append(loss)\n",
    "    \n",
    "    if iter % 2 == 0:\n",
    "        print(f\"Loss of the function {loss}\")\n",
    "\n",
    "\n",
    "    #plt.semilogy(np.arange(len(loss_prox)),loss_prox,'m',linewidth = 2, label = 'Prox function')\n",
    "    plt.plot(np.arange(len(loss_prox)),loss_prox,'m',linewidth = 2, label = 'Prox function')\n",
    "    plt.legend(prop={'size':12})\n",
    "    plt.xlabel('Iteration')\n",
    "    plt.ylabel('Loss')\n",
    "    \n",
    "    return loss_prox"
   ]
  },
  {
   "cell_type": "markdown",
   "metadata": {},
   "source": [
    "### Z przyspieszeniem Nesterova"
   ]
  },
  {
   "cell_type": "code",
   "execution_count": 7,
   "metadata": {},
   "outputs": [],
   "source": [
    "def Nesterov(X,y,beta,alpha,lr):\n",
    "\n",
    "    nest_loss = []\n",
    "\n",
    "    #lr = 0.00015\n",
    "\n",
    "\n",
    "    copy_beta = beta\n",
    "    for iter in range(100):\n",
    "        #print(iter,\"\\n\")\n",
    "        loss = loss_function(X,y,beta,alpha)\n",
    "        nest_loss.append(loss)\n",
    "    \n",
    "        beta_prev = beta\n",
    "        beta = copy_beta - lr*square_grad(X,y,copy_beta)\n",
    "        beta = softmax_lasso(alpha*lr,beta)\n",
    "        copy_beta  = beta + iter/(iter+3) * (beta - beta_prev)\n",
    "    \n",
    "        if iter % 10 == 0:\n",
    "            print(f\"Loss of the function {loss}\")\n",
    "    \n",
    "    \n",
    "\n",
    "    plt.plot(np.arange(len(nest_loss)),nest_loss,'b',linewidth = 2, label = 'Nesterov acceleration')\n",
    "    plt.legend(prop={'size':12})\n",
    "    plt.xlabel('Iteration')\n",
    "    plt.ylabel('Loss')\n",
    "    \n",
    "    return nest_loss\n"
   ]
  },
  {
   "cell_type": "code",
   "execution_count": 65,
   "metadata": {},
   "outputs": [],
   "source": [
    "#def Sthresh(x, gamma):\n",
    "  #  return np.sign(x)*np.maximum(0, abs(x)-gamma/2.0)"
   ]
  },
  {
   "cell_type": "markdown",
   "metadata": {},
   "source": [
    "### ADMM"
   ]
  },
  {
   "cell_type": "code",
   "execution_count": 79,
   "metadata": {},
   "outputs": [],
   "source": [
    "def ADMM(X,y,beta,alpha,rho,max_iter = 10):\n",
    "    \n",
    "    m,n = X.shape\n",
    "\n",
    "    #w,v  = np.linalg.eig(X.T @ X)\n",
    "    u = np.array([0]*n)\n",
    "    zhat = np.array([0]*n)\n",
    "\n",
    "# coeficients \n",
    "    #alpha = 0.5\n",
    "    #rho = 0.1 #1/abs(w).max()\n",
    "\n",
    "\n",
    "#precomputing\n",
    "\n",
    "    left_beta = np.linalg.inv(X.T @ X + rho*np.identity(n))\n",
    "    #left_beta.shape\n",
    "\n",
    "    Xty = X.T @ y \n",
    "    #Xty.shape\n",
    "\n",
    "    admm_loss = []\n",
    "    admm_loss.append(loss_function(X,y,beta,alpha))\n",
    "    for i in range(max_iter):\n",
    "        \n",
    "        loss = loss_function(X,y,zhat,alpha)\n",
    "        if i % 10 == 0:\n",
    "            print(f\"Loss of the function {loss}\")\n",
    "        admm_loss.append(loss)\n",
    "\n",
    "        \"x minimisation step via posterier OLS\"\n",
    "        beta = left_beta @ (Xty + rho*(zhat - u))\n",
    "\n",
    "        \"z minimisation via soft-thresholding\"\n",
    "        zhat =Sthresh(beta + u, alpha*rho) #softmax_lasso(alpha/rho,beta + u )#Sthresh(beta + u, alpha*rho)\n",
    "       # softmax_lasso(alpha/rho,beta + u ) #Sthresh(beta + u, alpha/rho)\n",
    "\n",
    "        \"mulitplier update\"\n",
    "        u = u + beta - zhat\n",
    "        \n",
    "\n",
    "\n",
    "\n",
    "    plt.semilogy(np.arange(len(admm_loss)),admm_loss,'r--',linewidth = 2, label = 'ADMM')\n",
    "    plt.legend(prop={'size':12})\n",
    "    plt.xlabel('Iteration')\n",
    "    plt.ylabel('Loss')\n",
    "    \n",
    "    return admm_loss"
   ]
  },
  {
   "cell_type": "markdown",
   "metadata": {},
   "source": [
    "##  Porównanie prędkości zbieżności do aptymalnego rozwiązania dla identycznych danych \n",
    "Tutaj można się pobawić hiperparametrami jakim jest leraning rate podkreślony na zielono "
   ]
  },
  {
   "cell_type": "code",
   "execution_count": 32,
   "metadata": {},
   "outputs": [
    {
     "name": "stdout",
     "output_type": "stream",
     "text": [
      "Loss of the function 59.601603792755796\n",
      "Loss of the function 23.995371144981984\n",
      "Loss of the function 61.001081816207304\n",
      "Loss of the function 43.506128844774935\n",
      "Loss of the function 32.629165249785316\n",
      "Loss of the function 25.726630026039814\n",
      "Loss of the function 21.163889239519918\n",
      "Loss of the function 18.173978693077995\n",
      "Loss of the function 16.146648114055836\n",
      "Loss of the function 14.725127493176632\n",
      "Loss of the function 13.688748879295817\n",
      "Loss of the function 12.902635579532316\n",
      "Loss of the function 61.001081816207304\n",
      "Loss of the function 32.88688502837938\n",
      "Loss of the function 14.747223239586928\n",
      "Loss of the function 11.71435435518356\n",
      "Loss of the function 12.050201986775338\n",
      "Loss of the function 11.867878380077189\n",
      "Loss of the function 11.563964883192256\n",
      "Loss of the function 11.313094138517338\n",
      "Loss of the function 11.234498973468787\n",
      "Loss of the function 11.27251117810404\n",
      "Loss of the function 31.89193725750511\n",
      "Loss of the function 11.335152036743311\n",
      "Loss of the function 11.33520190223401\n",
      "Loss of the function 11.335201913920015\n",
      "Loss of the function 11.335201913926088\n",
      "Loss of the function 11.33520191392609\n",
      "Loss of the function 11.33520191392609\n",
      "Loss of the function 11.33520191392609\n",
      "Loss of the function 11.33520191392609\n",
      "Loss of the function 11.33520191392609\n"
     ]
    },
    {
     "data": {
      "image/png": "[encoded data removed]",
      "text/plain": [
       "<Figure size 432x288 with 1 Axes>"
      ]
     },
     "metadata": {
      "needs_background": "light"
     },
     "output_type": "display_data"
    }
   ],
   "source": [
    "loss = kaggle_lasso(X,y,beta,alpha,0.005)\n",
    "los_prox = proximate_grad(X,y,beta,alpha,0.0002)\n",
    "nest_loss = Nesterov(X,y,beta,alpha,0.0002)\n",
    "admm_los = ADMM(X,y,beta,alpha,20,max_iter = 100)"
   ]
  },
  {
   "cell_type": "markdown",
   "metadata": {},
   "source": [
    "### Wczytywanie danych \n",
    "\n",
    "Ponownie są tutaj funkcje ale wprowadziłem w nich małe zmiany co do printownnia i dla wygody przesunąłem zeby były bliżej kiedy bawiłem sie parametrami, najważniejsze cześci pozostają bez zmian"
   ]
  },
  {
   "cell_type": "code",
   "execution_count": 9,
   "metadata": {},
   "outputs": [],
   "source": [
    "def kaggle_lasso(X,y,beta,alpha,lr,max_iter = 100):\n",
    "\n",
    "#   lr = 0.1\n",
    "    loss = []\n",
    "    for iter in range(max_iter):\n",
    "        #print(iter,\"\\n\")\n",
    "        loss.append(loss_function(X,y,beta,alpha))\n",
    "        n = X.shape[0]\n",
    "        ols = -2 * X.T @ (y - X @ beta) /n\n",
    "        soft = softmax_lasso(alpha*lr,beta) \n",
    "    \n",
    "        grad = soft + ols\n",
    "        beta = beta - lr * grad\n",
    "\n",
    "        if iter % 50 == 0:\n",
    "            print(f\"Loss of the function {loss_function(X,y,beta,alpha)}\")\n",
    "    \n",
    "\n",
    "    plt.semilogy(np.arange(len(loss)),loss,'g',linewidth = 2, label = 'Kaggle function')\n",
    "    plt.legend(prop={'size':12})\n",
    "    plt.xlabel('Iteration')\n",
    "    plt.ylabel('Loss')\n",
    "    \n",
    "    return loss"
   ]
  },
  {
   "cell_type": "code",
   "execution_count": 10,
   "metadata": {},
   "outputs": [],
   "source": [
    "def proximate_grad(X,y,beta,alpha,lr,max_iter = 100):\n",
    "\n",
    "    #lr= 0.0001\n",
    "    loss_prox = []\n",
    "\n",
    "    for iter in range(max_iter):\n",
    "        #print(iter,\"\\n\")\n",
    "        loss = loss_function(X,y,beta,alpha)\n",
    "        beta = beta - lr * square_grad(X,y,beta)\n",
    "        beta = softmax_lasso(alpha*lr,beta)\n",
    "        loss_prox.append(loss)\n",
    "    \n",
    "        if iter % 10 == 0:\n",
    "            print(f\"Loss of the function {loss}\")\n",
    "\n",
    "\n",
    "    #plt.semilogy(np.arange(len(loss_prox)),loss_prox,'m',linewidth = 2, label = 'Prox function')\n",
    "    plt.semilogy(np.arange(len(loss_prox)),loss_prox,'m',linewidth = 2, label = 'Prox function')\n",
    "    plt.legend(prop={'size':12})\n",
    "    plt.xlabel('Iteration')\n",
    "    plt.ylabel('Loss')\n",
    "    \n",
    "    return loss_prox"
   ]
  },
  {
   "cell_type": "code",
   "execution_count": 11,
   "metadata": {},
   "outputs": [],
   "source": [
    "def Nesterov(X,y,beta,alpha,lr,max_iter = 100):\n",
    "\n",
    "    nest_loss = []\n",
    "\n",
    "    #lr = 0.00015\n",
    "\n",
    "\n",
    "    copy_beta = beta\n",
    "    for iter in range(max_iter):\n",
    "        \n",
    "        \n",
    "        loss = loss_function(X,y,beta,alpha)\n",
    "        nest_loss.append(loss)\n",
    "    \n",
    "        beta_prev = beta\n",
    "        beta = copy_beta - lr*square_grad(X,y,copy_beta)\n",
    "        beta = softmax_lasso(alpha*lr,beta)\n",
    "        copy_beta  = beta + iter/(iter+3) * (beta - beta_prev)\n",
    "    \n",
    "        if iter % 10 == 0:\n",
    "            print(f\"Loss of the function {loss}\")\n",
    "    \n",
    "    \n",
    "\n",
    "    plt.semilogy(np.arange(len(nest_loss)),nest_loss,'b',linewidth = 2, label = 'Nesterov acceleration')\n",
    "    plt.legend(prop={'size':12})\n",
    "    plt.xlabel('Iteration')\n",
    "    plt.ylabel('Loss')\n",
    "    \n",
    "    return nest_loss"
   ]
  },
  {
   "cell_type": "code",
   "execution_count": 13,
   "metadata": {},
   "outputs": [],
   "source": [
    "data = pd.read_csv(\"kc_house_data.csv\")"
   ]
  },
  {
   "cell_type": "markdown",
   "metadata": {},
   "source": [
    "### Wyżucamy kolumny nie mające wpłlywu na cene ja id i zipcode, czy rok wybudowania (on może mieć wpływ ale dane w latach są zwykle nieużyteczne)"
   ]
  },
  {
   "cell_type": "code",
   "execution_count": 14,
   "metadata": {},
   "outputs": [],
   "source": [
    "y = np.log10(data['price'])\n",
    "X = data.drop(['id', 'date',\"zipcode\",\"price\",'yr_built','yr_renovated','long'], axis = 1) \n",
    "alpha = 2\n",
    "beta = np.random.randint(10,size= (14,))"
   ]
  },
  {
   "cell_type": "code",
   "execution_count": 84,
   "metadata": {},
   "outputs": [
    {
     "data": {
      "text/plain": [
       "(Index(['bedrooms', 'bathrooms', 'sqft_living', 'sqft_lot', 'floors',\n",
       "        'waterfront', 'view', 'condition', 'grade', 'sqft_above',\n",
       "        'sqft_basement', 'lat', 'sqft_living15', 'sqft_lot15'],\n",
       "       dtype='object'),\n",
       " (21613, 14))"
      ]
     },
     "execution_count": 84,
     "metadata": {},
     "output_type": "execute_result"
    }
   ],
   "source": [
    "X.columns,X.shape"
   ]
  },
  {
   "cell_type": "markdown",
   "metadata": {},
   "source": [
    "### Widać ze niektóre wartośći są bardzo duże np sqft_lot, będziemy musieli je pomniejszyć\n",
    "\n",
    "Jest tutaj lekki bałagan z eksploracją daltego ponizej znajduje się chunk z kodem gdzie wszytsko jest złożone do kupy."
   ]
  },
  {
   "cell_type": "code",
   "execution_count": 85,
   "metadata": {},
   "outputs": [
    {
     "data": {
      "text/html": [
       "<div>\n",
       "<style scoped>\n",
       "    .dataframe tbody tr th:only-of-type {\n",
       "        vertical-align: middle;\n",
       "    }\n",
       "\n",
       "    .dataframe tbody tr th {\n",
       "        vertical-align: top;\n",
       "    }\n",
       "\n",
       "    .dataframe thead th {\n",
       "        text-align: right;\n",
       "    }\n",
       "</style>\n",
       "<table border=\"1\" class=\"dataframe\">\n",
       "  <thead>\n",
       "    <tr style=\"text-align: right;\">\n",
       "      <th></th>\n",
       "      <th>bedrooms</th>\n",
       "      <th>bathrooms</th>\n",
       "      <th>sqft_living</th>\n",
       "      <th>sqft_lot</th>\n",
       "      <th>floors</th>\n",
       "      <th>waterfront</th>\n",
       "      <th>view</th>\n",
       "      <th>condition</th>\n",
       "      <th>grade</th>\n",
       "      <th>sqft_above</th>\n",
       "      <th>sqft_basement</th>\n",
       "      <th>lat</th>\n",
       "      <th>sqft_living15</th>\n",
       "      <th>sqft_lot15</th>\n",
       "    </tr>\n",
       "  </thead>\n",
       "  <tbody>\n",
       "    <tr>\n",
       "      <th>count</th>\n",
       "      <td>21613.000000</td>\n",
       "      <td>21613.000000</td>\n",
       "      <td>21613.000000</td>\n",
       "      <td>2.161300e+04</td>\n",
       "      <td>21613.000000</td>\n",
       "      <td>21613.000000</td>\n",
       "      <td>21613.000000</td>\n",
       "      <td>21613.000000</td>\n",
       "      <td>21613.000000</td>\n",
       "      <td>21613.000000</td>\n",
       "      <td>21613.000000</td>\n",
       "      <td>21613.000000</td>\n",
       "      <td>21613.000000</td>\n",
       "      <td>21613.000000</td>\n",
       "    </tr>\n",
       "    <tr>\n",
       "      <th>mean</th>\n",
       "      <td>3.370842</td>\n",
       "      <td>2.114757</td>\n",
       "      <td>2079.899736</td>\n",
       "      <td>1.510697e+04</td>\n",
       "      <td>1.494309</td>\n",
       "      <td>0.007542</td>\n",
       "      <td>0.234303</td>\n",
       "      <td>3.409430</td>\n",
       "      <td>7.656873</td>\n",
       "      <td>1788.390691</td>\n",
       "      <td>291.509045</td>\n",
       "      <td>47.560053</td>\n",
       "      <td>1986.552492</td>\n",
       "      <td>12768.455652</td>\n",
       "    </tr>\n",
       "    <tr>\n",
       "      <th>std</th>\n",
       "      <td>0.930062</td>\n",
       "      <td>0.770163</td>\n",
       "      <td>918.440897</td>\n",
       "      <td>4.142051e+04</td>\n",
       "      <td>0.539989</td>\n",
       "      <td>0.086517</td>\n",
       "      <td>0.766318</td>\n",
       "      <td>0.650743</td>\n",
       "      <td>1.175459</td>\n",
       "      <td>828.090978</td>\n",
       "      <td>442.575043</td>\n",
       "      <td>0.138564</td>\n",
       "      <td>685.391304</td>\n",
       "      <td>27304.179631</td>\n",
       "    </tr>\n",
       "    <tr>\n",
       "      <th>min</th>\n",
       "      <td>0.000000</td>\n",
       "      <td>0.000000</td>\n",
       "      <td>290.000000</td>\n",
       "      <td>5.200000e+02</td>\n",
       "      <td>1.000000</td>\n",
       "      <td>0.000000</td>\n",
       "      <td>0.000000</td>\n",
       "      <td>1.000000</td>\n",
       "      <td>1.000000</td>\n",
       "      <td>290.000000</td>\n",
       "      <td>0.000000</td>\n",
       "      <td>47.155900</td>\n",
       "      <td>399.000000</td>\n",
       "      <td>651.000000</td>\n",
       "    </tr>\n",
       "    <tr>\n",
       "      <th>25%</th>\n",
       "      <td>3.000000</td>\n",
       "      <td>1.750000</td>\n",
       "      <td>1427.000000</td>\n",
       "      <td>5.040000e+03</td>\n",
       "      <td>1.000000</td>\n",
       "      <td>0.000000</td>\n",
       "      <td>0.000000</td>\n",
       "      <td>3.000000</td>\n",
       "      <td>7.000000</td>\n",
       "      <td>1190.000000</td>\n",
       "      <td>0.000000</td>\n",
       "      <td>47.471000</td>\n",
       "      <td>1490.000000</td>\n",
       "      <td>5100.000000</td>\n",
       "    </tr>\n",
       "    <tr>\n",
       "      <th>50%</th>\n",
       "      <td>3.000000</td>\n",
       "      <td>2.250000</td>\n",
       "      <td>1910.000000</td>\n",
       "      <td>7.618000e+03</td>\n",
       "      <td>1.500000</td>\n",
       "      <td>0.000000</td>\n",
       "      <td>0.000000</td>\n",
       "      <td>3.000000</td>\n",
       "      <td>7.000000</td>\n",
       "      <td>1560.000000</td>\n",
       "      <td>0.000000</td>\n",
       "      <td>47.571800</td>\n",
       "      <td>1840.000000</td>\n",
       "      <td>7620.000000</td>\n",
       "    </tr>\n",
       "    <tr>\n",
       "      <th>75%</th>\n",
       "      <td>4.000000</td>\n",
       "      <td>2.500000</td>\n",
       "      <td>2550.000000</td>\n",
       "      <td>1.068800e+04</td>\n",
       "      <td>2.000000</td>\n",
       "      <td>0.000000</td>\n",
       "      <td>0.000000</td>\n",
       "      <td>4.000000</td>\n",
       "      <td>8.000000</td>\n",
       "      <td>2210.000000</td>\n",
       "      <td>560.000000</td>\n",
       "      <td>47.678000</td>\n",
       "      <td>2360.000000</td>\n",
       "      <td>10083.000000</td>\n",
       "    </tr>\n",
       "    <tr>\n",
       "      <th>max</th>\n",
       "      <td>33.000000</td>\n",
       "      <td>8.000000</td>\n",
       "      <td>13540.000000</td>\n",
       "      <td>1.651359e+06</td>\n",
       "      <td>3.500000</td>\n",
       "      <td>1.000000</td>\n",
       "      <td>4.000000</td>\n",
       "      <td>5.000000</td>\n",
       "      <td>13.000000</td>\n",
       "      <td>9410.000000</td>\n",
       "      <td>4820.000000</td>\n",
       "      <td>47.777600</td>\n",
       "      <td>6210.000000</td>\n",
       "      <td>871200.000000</td>\n",
       "    </tr>\n",
       "  </tbody>\n",
       "</table>\n",
       "</div>"
      ],
      "text/plain": [
       "           bedrooms     bathrooms   sqft_living      sqft_lot        floors  \\\n",
       "count  21613.000000  21613.000000  21613.000000  2.161300e+04  21613.000000   \n",
       "mean       3.370842      2.114757   2079.899736  1.510697e+04      1.494309   \n",
       "std        0.930062      0.770163    918.440897  4.142051e+04      0.539989   \n",
       "min        0.000000      0.000000    290.000000  5.200000e+02      1.000000   \n",
       "25%        3.000000      1.750000   1427.000000  5.040000e+03      1.000000   \n",
       "50%        3.000000      2.250000   1910.000000  7.618000e+03      1.500000   \n",
       "75%        4.000000      2.500000   2550.000000  1.068800e+04      2.000000   \n",
       "max       33.000000      8.000000  13540.000000  1.651359e+06      3.500000   \n",
       "\n",
       "         waterfront          view     condition         grade    sqft_above  \\\n",
       "count  21613.000000  21613.000000  21613.000000  21613.000000  21613.000000   \n",
       "mean       0.007542      0.234303      3.409430      7.656873   1788.390691   \n",
       "std        0.086517      0.766318      0.650743      1.175459    828.090978   \n",
       "min        0.000000      0.000000      1.000000      1.000000    290.000000   \n",
       "25%        0.000000      0.000000      3.000000      7.000000   1190.000000   \n",
       "50%        0.000000      0.000000      3.000000      7.000000   1560.000000   \n",
       "75%        0.000000      0.000000      4.000000      8.000000   2210.000000   \n",
       "max        1.000000      4.000000      5.000000     13.000000   9410.000000   \n",
       "\n",
       "       sqft_basement           lat  sqft_living15     sqft_lot15  \n",
       "count   21613.000000  21613.000000   21613.000000   21613.000000  \n",
       "mean      291.509045     47.560053    1986.552492   12768.455652  \n",
       "std       442.575043      0.138564     685.391304   27304.179631  \n",
       "min         0.000000     47.155900     399.000000     651.000000  \n",
       "25%         0.000000     47.471000    1490.000000    5100.000000  \n",
       "50%         0.000000     47.571800    1840.000000    7620.000000  \n",
       "75%       560.000000     47.678000    2360.000000   10083.000000  \n",
       "max      4820.000000     47.777600    6210.000000  871200.000000  "
      ]
     },
     "execution_count": 85,
     "metadata": {},
     "output_type": "execute_result"
    }
   ],
   "source": [
    "X.describe()"
   ]
  },
  {
   "cell_type": "code",
   "execution_count": 15,
   "metadata": {},
   "outputs": [
    {
     "name": "stderr",
     "output_type": "stream",
     "text": [
      "/Users/czoppson/anaconda3/lib/python3.7/site-packages/ipykernel_launcher.py:1: RuntimeWarning: divide by zero encountered in log10\n",
      "  \"\"\"Entry point for launching an IPython kernel.\n"
     ]
    }
   ],
   "source": [
    "X = X.apply(lambda x: np.log10(x) if (x.name == 'sqft_living') or (x.name =='sqft_lot') or (x.name =='sqft_above') or (x.name =='sqft_basement') or (x.name =='lat') or (x.name =='long') or (x.name =='sqft_living15') or (x.name =='sqft_lot15') else x)"
   ]
  },
  {
   "cell_type": "code",
   "execution_count": 87,
   "metadata": {},
   "outputs": [
    {
     "name": "stderr",
     "output_type": "stream",
     "text": [
      "/Users/czoppson/anaconda3/lib/python3.7/site-packages/numpy/lib/function_base.py:3942: RuntimeWarning: invalid value encountered in multiply\n",
      "  x2 = take(ap, indices_above, axis=axis) * weights_above\n"
     ]
    },
    {
     "data": {
      "text/html": [
       "<div>\n",
       "<style scoped>\n",
       "    .dataframe tbody tr th:only-of-type {\n",
       "        vertical-align: middle;\n",
       "    }\n",
       "\n",
       "    .dataframe tbody tr th {\n",
       "        vertical-align: top;\n",
       "    }\n",
       "\n",
       "    .dataframe thead th {\n",
       "        text-align: right;\n",
       "    }\n",
       "</style>\n",
       "<table border=\"1\" class=\"dataframe\">\n",
       "  <thead>\n",
       "    <tr style=\"text-align: right;\">\n",
       "      <th></th>\n",
       "      <th>bedrooms</th>\n",
       "      <th>bathrooms</th>\n",
       "      <th>sqft_living</th>\n",
       "      <th>sqft_lot</th>\n",
       "      <th>floors</th>\n",
       "      <th>waterfront</th>\n",
       "      <th>view</th>\n",
       "      <th>condition</th>\n",
       "      <th>grade</th>\n",
       "      <th>sqft_above</th>\n",
       "      <th>sqft_basement</th>\n",
       "      <th>lat</th>\n",
       "      <th>sqft_living15</th>\n",
       "      <th>sqft_lot15</th>\n",
       "    </tr>\n",
       "  </thead>\n",
       "  <tbody>\n",
       "    <tr>\n",
       "      <th>count</th>\n",
       "      <td>21613.000000</td>\n",
       "      <td>21613.000000</td>\n",
       "      <td>21613.000000</td>\n",
       "      <td>21613.000000</td>\n",
       "      <td>21613.000000</td>\n",
       "      <td>21613.000000</td>\n",
       "      <td>21613.000000</td>\n",
       "      <td>21613.000000</td>\n",
       "      <td>21613.000000</td>\n",
       "      <td>21613.000000</td>\n",
       "      <td>2.161300e+04</td>\n",
       "      <td>21613.000000</td>\n",
       "      <td>21613.000000</td>\n",
       "      <td>21613.000000</td>\n",
       "    </tr>\n",
       "    <tr>\n",
       "      <th>mean</th>\n",
       "      <td>3.370842</td>\n",
       "      <td>2.114757</td>\n",
       "      <td>3.279069</td>\n",
       "      <td>3.904288</td>\n",
       "      <td>1.494309</td>\n",
       "      <td>0.007542</td>\n",
       "      <td>0.234303</td>\n",
       "      <td>3.409430</td>\n",
       "      <td>7.656873</td>\n",
       "      <td>3.211554</td>\n",
       "      <td>-inf</td>\n",
       "      <td>1.677240</td>\n",
       "      <td>3.274337</td>\n",
       "      <td>3.891706</td>\n",
       "    </tr>\n",
       "    <tr>\n",
       "      <th>std</th>\n",
       "      <td>0.930062</td>\n",
       "      <td>0.770163</td>\n",
       "      <td>0.184491</td>\n",
       "      <td>0.391918</td>\n",
       "      <td>0.539989</td>\n",
       "      <td>0.086517</td>\n",
       "      <td>0.766318</td>\n",
       "      <td>0.650743</td>\n",
       "      <td>1.175459</td>\n",
       "      <td>0.185718</td>\n",
       "      <td>NaN</td>\n",
       "      <td>0.001266</td>\n",
       "      <td>0.142238</td>\n",
       "      <td>0.353102</td>\n",
       "    </tr>\n",
       "    <tr>\n",
       "      <th>min</th>\n",
       "      <td>0.000000</td>\n",
       "      <td>0.000000</td>\n",
       "      <td>2.462398</td>\n",
       "      <td>2.716003</td>\n",
       "      <td>1.000000</td>\n",
       "      <td>0.000000</td>\n",
       "      <td>0.000000</td>\n",
       "      <td>1.000000</td>\n",
       "      <td>1.000000</td>\n",
       "      <td>2.462398</td>\n",
       "      <td>-inf</td>\n",
       "      <td>1.673536</td>\n",
       "      <td>2.600973</td>\n",
       "      <td>2.813581</td>\n",
       "    </tr>\n",
       "    <tr>\n",
       "      <th>25%</th>\n",
       "      <td>3.000000</td>\n",
       "      <td>1.750000</td>\n",
       "      <td>3.154424</td>\n",
       "      <td>3.702431</td>\n",
       "      <td>1.000000</td>\n",
       "      <td>0.000000</td>\n",
       "      <td>0.000000</td>\n",
       "      <td>3.000000</td>\n",
       "      <td>7.000000</td>\n",
       "      <td>3.075547</td>\n",
       "      <td>NaN</td>\n",
       "      <td>1.676428</td>\n",
       "      <td>3.173186</td>\n",
       "      <td>3.707570</td>\n",
       "    </tr>\n",
       "    <tr>\n",
       "      <th>50%</th>\n",
       "      <td>3.000000</td>\n",
       "      <td>2.250000</td>\n",
       "      <td>3.281033</td>\n",
       "      <td>3.881841</td>\n",
       "      <td>1.500000</td>\n",
       "      <td>0.000000</td>\n",
       "      <td>0.000000</td>\n",
       "      <td>3.000000</td>\n",
       "      <td>7.000000</td>\n",
       "      <td>3.193125</td>\n",
       "      <td>NaN</td>\n",
       "      <td>1.677350</td>\n",
       "      <td>3.264818</td>\n",
       "      <td>3.881955</td>\n",
       "    </tr>\n",
       "    <tr>\n",
       "      <th>75%</th>\n",
       "      <td>4.000000</td>\n",
       "      <td>2.500000</td>\n",
       "      <td>3.406540</td>\n",
       "      <td>4.028896</td>\n",
       "      <td>2.000000</td>\n",
       "      <td>0.000000</td>\n",
       "      <td>0.000000</td>\n",
       "      <td>4.000000</td>\n",
       "      <td>8.000000</td>\n",
       "      <td>3.344392</td>\n",
       "      <td>2.748188e+00</td>\n",
       "      <td>1.678318</td>\n",
       "      <td>3.372912</td>\n",
       "      <td>4.003590</td>\n",
       "    </tr>\n",
       "    <tr>\n",
       "      <th>max</th>\n",
       "      <td>33.000000</td>\n",
       "      <td>8.000000</td>\n",
       "      <td>4.131619</td>\n",
       "      <td>6.217841</td>\n",
       "      <td>3.500000</td>\n",
       "      <td>1.000000</td>\n",
       "      <td>4.000000</td>\n",
       "      <td>5.000000</td>\n",
       "      <td>13.000000</td>\n",
       "      <td>3.973590</td>\n",
       "      <td>3.683047e+00</td>\n",
       "      <td>1.679224</td>\n",
       "      <td>3.793092</td>\n",
       "      <td>5.940118</td>\n",
       "    </tr>\n",
       "  </tbody>\n",
       "</table>\n",
       "</div>"
      ],
      "text/plain": [
       "           bedrooms     bathrooms   sqft_living      sqft_lot        floors  \\\n",
       "count  21613.000000  21613.000000  21613.000000  21613.000000  21613.000000   \n",
       "mean       3.370842      2.114757      3.279069      3.904288      1.494309   \n",
       "std        0.930062      0.770163      0.184491      0.391918      0.539989   \n",
       "min        0.000000      0.000000      2.462398      2.716003      1.000000   \n",
       "25%        3.000000      1.750000      3.154424      3.702431      1.000000   \n",
       "50%        3.000000      2.250000      3.281033      3.881841      1.500000   \n",
       "75%        4.000000      2.500000      3.406540      4.028896      2.000000   \n",
       "max       33.000000      8.000000      4.131619      6.217841      3.500000   \n",
       "\n",
       "         waterfront          view     condition         grade    sqft_above  \\\n",
       "count  21613.000000  21613.000000  21613.000000  21613.000000  21613.000000   \n",
       "mean       0.007542      0.234303      3.409430      7.656873      3.211554   \n",
       "std        0.086517      0.766318      0.650743      1.175459      0.185718   \n",
       "min        0.000000      0.000000      1.000000      1.000000      2.462398   \n",
       "25%        0.000000      0.000000      3.000000      7.000000      3.075547   \n",
       "50%        0.000000      0.000000      3.000000      7.000000      3.193125   \n",
       "75%        0.000000      0.000000      4.000000      8.000000      3.344392   \n",
       "max        1.000000      4.000000      5.000000     13.000000      3.973590   \n",
       "\n",
       "       sqft_basement           lat  sqft_living15    sqft_lot15  \n",
       "count   2.161300e+04  21613.000000   21613.000000  21613.000000  \n",
       "mean            -inf      1.677240       3.274337      3.891706  \n",
       "std              NaN      0.001266       0.142238      0.353102  \n",
       "min             -inf      1.673536       2.600973      2.813581  \n",
       "25%              NaN      1.676428       3.173186      3.707570  \n",
       "50%              NaN      1.677350       3.264818      3.881955  \n",
       "75%     2.748188e+00      1.678318       3.372912      4.003590  \n",
       "max     3.683047e+00      1.679224       3.793092      5.940118  "
      ]
     },
     "execution_count": 87,
     "metadata": {},
     "output_type": "execute_result"
    }
   ],
   "source": [
    "X.describe()"
   ]
  },
  {
   "cell_type": "code",
   "execution_count": 16,
   "metadata": {},
   "outputs": [
    {
     "data": {
      "text/html": [
       "<div>\n",
       "<style scoped>\n",
       "    .dataframe tbody tr th:only-of-type {\n",
       "        vertical-align: middle;\n",
       "    }\n",
       "\n",
       "    .dataframe tbody tr th {\n",
       "        vertical-align: top;\n",
       "    }\n",
       "\n",
       "    .dataframe thead th {\n",
       "        text-align: right;\n",
       "    }\n",
       "</style>\n",
       "<table border=\"1\" class=\"dataframe\">\n",
       "  <thead>\n",
       "    <tr style=\"text-align: right;\">\n",
       "      <th></th>\n",
       "      <th>bedrooms</th>\n",
       "      <th>bathrooms</th>\n",
       "      <th>sqft_living</th>\n",
       "      <th>sqft_lot</th>\n",
       "      <th>floors</th>\n",
       "      <th>waterfront</th>\n",
       "      <th>view</th>\n",
       "      <th>condition</th>\n",
       "      <th>grade</th>\n",
       "      <th>sqft_above</th>\n",
       "      <th>sqft_basement</th>\n",
       "      <th>lat</th>\n",
       "      <th>sqft_living15</th>\n",
       "      <th>sqft_lot15</th>\n",
       "    </tr>\n",
       "  </thead>\n",
       "  <tbody>\n",
       "    <tr>\n",
       "      <th>count</th>\n",
       "      <td>21613.000000</td>\n",
       "      <td>21613.000000</td>\n",
       "      <td>21613.000000</td>\n",
       "      <td>21613.000000</td>\n",
       "      <td>21613.000000</td>\n",
       "      <td>21613.000000</td>\n",
       "      <td>21613.000000</td>\n",
       "      <td>21613.000000</td>\n",
       "      <td>21613.000000</td>\n",
       "      <td>21613.000000</td>\n",
       "      <td>21613.000000</td>\n",
       "      <td>21613.000000</td>\n",
       "      <td>21613.000000</td>\n",
       "      <td>21613.000000</td>\n",
       "    </tr>\n",
       "    <tr>\n",
       "      <th>mean</th>\n",
       "      <td>3.370842</td>\n",
       "      <td>2.114757</td>\n",
       "      <td>3.279069</td>\n",
       "      <td>3.904288</td>\n",
       "      <td>1.494309</td>\n",
       "      <td>0.007542</td>\n",
       "      <td>0.234303</td>\n",
       "      <td>3.409430</td>\n",
       "      <td>7.656873</td>\n",
       "      <td>3.211554</td>\n",
       "      <td>1.098107</td>\n",
       "      <td>1.677240</td>\n",
       "      <td>3.274337</td>\n",
       "      <td>3.891706</td>\n",
       "    </tr>\n",
       "    <tr>\n",
       "      <th>std</th>\n",
       "      <td>0.930062</td>\n",
       "      <td>0.770163</td>\n",
       "      <td>0.184491</td>\n",
       "      <td>0.391918</td>\n",
       "      <td>0.539989</td>\n",
       "      <td>0.086517</td>\n",
       "      <td>0.766318</td>\n",
       "      <td>0.650743</td>\n",
       "      <td>1.175459</td>\n",
       "      <td>0.185718</td>\n",
       "      <td>1.376615</td>\n",
       "      <td>0.001266</td>\n",
       "      <td>0.142238</td>\n",
       "      <td>0.353102</td>\n",
       "    </tr>\n",
       "    <tr>\n",
       "      <th>min</th>\n",
       "      <td>0.000000</td>\n",
       "      <td>0.000000</td>\n",
       "      <td>2.462398</td>\n",
       "      <td>2.716003</td>\n",
       "      <td>1.000000</td>\n",
       "      <td>0.000000</td>\n",
       "      <td>0.000000</td>\n",
       "      <td>1.000000</td>\n",
       "      <td>1.000000</td>\n",
       "      <td>2.462398</td>\n",
       "      <td>0.000000</td>\n",
       "      <td>1.673536</td>\n",
       "      <td>2.600973</td>\n",
       "      <td>2.813581</td>\n",
       "    </tr>\n",
       "    <tr>\n",
       "      <th>25%</th>\n",
       "      <td>3.000000</td>\n",
       "      <td>1.750000</td>\n",
       "      <td>3.154424</td>\n",
       "      <td>3.702431</td>\n",
       "      <td>1.000000</td>\n",
       "      <td>0.000000</td>\n",
       "      <td>0.000000</td>\n",
       "      <td>3.000000</td>\n",
       "      <td>7.000000</td>\n",
       "      <td>3.075547</td>\n",
       "      <td>0.000000</td>\n",
       "      <td>1.676428</td>\n",
       "      <td>3.173186</td>\n",
       "      <td>3.707570</td>\n",
       "    </tr>\n",
       "    <tr>\n",
       "      <th>50%</th>\n",
       "      <td>3.000000</td>\n",
       "      <td>2.250000</td>\n",
       "      <td>3.281033</td>\n",
       "      <td>3.881841</td>\n",
       "      <td>1.500000</td>\n",
       "      <td>0.000000</td>\n",
       "      <td>0.000000</td>\n",
       "      <td>3.000000</td>\n",
       "      <td>7.000000</td>\n",
       "      <td>3.193125</td>\n",
       "      <td>0.000000</td>\n",
       "      <td>1.677350</td>\n",
       "      <td>3.264818</td>\n",
       "      <td>3.881955</td>\n",
       "    </tr>\n",
       "    <tr>\n",
       "      <th>75%</th>\n",
       "      <td>4.000000</td>\n",
       "      <td>2.500000</td>\n",
       "      <td>3.406540</td>\n",
       "      <td>4.028896</td>\n",
       "      <td>2.000000</td>\n",
       "      <td>0.000000</td>\n",
       "      <td>0.000000</td>\n",
       "      <td>4.000000</td>\n",
       "      <td>8.000000</td>\n",
       "      <td>3.344392</td>\n",
       "      <td>2.748188</td>\n",
       "      <td>1.678318</td>\n",
       "      <td>3.372912</td>\n",
       "      <td>4.003590</td>\n",
       "    </tr>\n",
       "    <tr>\n",
       "      <th>max</th>\n",
       "      <td>33.000000</td>\n",
       "      <td>8.000000</td>\n",
       "      <td>4.131619</td>\n",
       "      <td>6.217841</td>\n",
       "      <td>3.500000</td>\n",
       "      <td>1.000000</td>\n",
       "      <td>4.000000</td>\n",
       "      <td>5.000000</td>\n",
       "      <td>13.000000</td>\n",
       "      <td>3.973590</td>\n",
       "      <td>3.683047</td>\n",
       "      <td>1.679224</td>\n",
       "      <td>3.793092</td>\n",
       "      <td>5.940118</td>\n",
       "    </tr>\n",
       "  </tbody>\n",
       "</table>\n",
       "</div>"
      ],
      "text/plain": [
       "           bedrooms     bathrooms   sqft_living      sqft_lot        floors  \\\n",
       "count  21613.000000  21613.000000  21613.000000  21613.000000  21613.000000   \n",
       "mean       3.370842      2.114757      3.279069      3.904288      1.494309   \n",
       "std        0.930062      0.770163      0.184491      0.391918      0.539989   \n",
       "min        0.000000      0.000000      2.462398      2.716003      1.000000   \n",
       "25%        3.000000      1.750000      3.154424      3.702431      1.000000   \n",
       "50%        3.000000      2.250000      3.281033      3.881841      1.500000   \n",
       "75%        4.000000      2.500000      3.406540      4.028896      2.000000   \n",
       "max       33.000000      8.000000      4.131619      6.217841      3.500000   \n",
       "\n",
       "         waterfront          view     condition         grade    sqft_above  \\\n",
       "count  21613.000000  21613.000000  21613.000000  21613.000000  21613.000000   \n",
       "mean       0.007542      0.234303      3.409430      7.656873      3.211554   \n",
       "std        0.086517      0.766318      0.650743      1.175459      0.185718   \n",
       "min        0.000000      0.000000      1.000000      1.000000      2.462398   \n",
       "25%        0.000000      0.000000      3.000000      7.000000      3.075547   \n",
       "50%        0.000000      0.000000      3.000000      7.000000      3.193125   \n",
       "75%        0.000000      0.000000      4.000000      8.000000      3.344392   \n",
       "max        1.000000      4.000000      5.000000     13.000000      3.973590   \n",
       "\n",
       "       sqft_basement           lat  sqft_living15    sqft_lot15  \n",
       "count   21613.000000  21613.000000   21613.000000  21613.000000  \n",
       "mean        1.098107      1.677240       3.274337      3.891706  \n",
       "std         1.376615      0.001266       0.142238      0.353102  \n",
       "min         0.000000      1.673536       2.600973      2.813581  \n",
       "25%         0.000000      1.676428       3.173186      3.707570  \n",
       "50%         0.000000      1.677350       3.264818      3.881955  \n",
       "75%         2.748188      1.678318       3.372912      4.003590  \n",
       "max         3.683047      1.679224       3.793092      5.940118  "
      ]
     },
     "execution_count": 16,
     "metadata": {},
     "output_type": "execute_result"
    }
   ],
   "source": [
    "X = X.fillna(0)\n",
    "X[\"sqft_basement\"] = X.sqft_basement.replace(-np.inf,0)\n",
    "X.describe()"
   ]
  },
  {
   "cell_type": "markdown",
   "metadata": {},
   "source": [
    "## zdecydowałem się zlogarymować największe wartosći (podstawa 2)"
   ]
  },
  {
   "cell_type": "code",
   "execution_count": 185,
   "metadata": {},
   "outputs": [
    {
     "name": "stderr",
     "output_type": "stream",
     "text": [
      "/Users/czoppson/anaconda3/lib/python3.7/site-packages/ipykernel_launcher.py:7: RuntimeWarning: divide by zero encountered in log2\n",
      "  import sys\n"
     ]
    }
   ],
   "source": [
    "data = pd.read_csv(\"kc_house_data.csv\")\n",
    "y = np.log2(data['price'])\n",
    "X = data.drop(['id', 'date',\"zipcode\",\"price\",'yr_built','yr_renovated','long'], axis = 1) \n",
    "alpha = 2\n",
    "X.insert(loc=0, column='intercept', value=np.ones_like(X.iloc[:,0]))\n",
    "beta = np.random.randint(10,size= (15,))\n",
    "X = X.apply(lambda x: np.log2(x) if (x.name == 'sqft_living') or (x.name =='sqft_lot') or (x.name =='sqft_above') or (x.name =='sqft_basement') or (x.name =='lat') or (x.name =='long') or (x.name =='sqft_living15') or (x.name =='sqft_lot15') else x)\n",
    "X = X.fillna(0)\n",
    "X[\"sqft_basement\"] = X.sqft_basement.replace(-np.inf,0)"
   ]
  },
  {
   "cell_type": "markdown",
   "metadata": {},
   "source": [
    "### Poszczególne wylicznia można podejżeć, alpha to lambda w naszym lasso ale niestety python nie pozmwala na nazywanie tak zmiennych bo mają swoja wbudowaną użyteczność"
   ]
  },
  {
   "cell_type": "code",
   "execution_count": 49,
   "metadata": {
    "collapsed": true,
    "jupyter": {
     "outputs_hidden": true
    }
   },
   "outputs": [
    {
     "name": "stdout",
     "output_type": "stream",
     "text": [
      "Loss of the function 74228.50601185921\n",
      "Loss of the function 1892.8332782738962\n",
      "Loss of the function 426.8062993371294\n",
      "Loss of the function 373.10099003287024\n",
      "Loss of the function 349.5268190137375\n",
      "Loss of the function 328.4389220173422\n",
      "Loss of the function 309.12525493592545\n",
      "Loss of the function 291.4244475434772\n",
      "Loss of the function 275.1988428977715\n",
      "Loss of the function 260.3227759467429\n",
      "Loss of the function 246.68133307946934\n",
      "Loss of the function 234.16942457668574\n",
      "Loss of the function 222.6909431796809\n",
      "Loss of the function 212.15799521771288\n",
      "Loss of the function 202.49019764396166\n",
      "Loss of the function 193.61403528127926\n",
      "Loss of the function 185.4622731125301\n",
      "Loss of the function 177.97341889908878\n",
      "Loss of the function 171.10352168250165\n",
      "Loss of the function 164.8265039879122\n",
      "Loss of the function 159.05645649055964\n",
      "Loss of the function 153.75039509887722\n",
      "Loss of the function 148.8690058934214\n",
      "Loss of the function 144.37633109158577\n",
      "Loss of the function 140.2394819405418\n",
      "Loss of the function 136.42837619791263\n",
      "Loss of the function 132.91549808929213\n",
      "Loss of the function 129.67567881667472\n",
      "Loss of the function 126.68589585744316\n",
      "Loss of the function 123.92508944446007\n",
      "Loss of the function 121.3739947557066\n",
      "Loss of the function 119.01498846798464\n",
      "Loss of the function 116.83194844446771\n",
      "Loss of the function 114.81012543127846\n",
      "Loss of the function 112.93602573463156\n",
      "Loss of the function 111.19730393818747\n",
      "Loss of the function 109.58266480081824\n",
      "Loss of the function 108.08177354864108\n",
      "Loss of the function 106.68517384251984\n",
      "Loss of the function 105.38421276380726\n",
      "Loss of the function 104.17097221739954\n",
      "Loss of the function 103.03820620265044\n",
      "Loss of the function 101.97928344975506\n",
      "Loss of the function 100.98813496224693\n",
      "Loss of the function 100.05920604559759\n",
      "Loss of the function 99.18741243788129\n",
      "Loss of the function 98.36810019136186\n",
      "Loss of the function 97.59700898393146\n",
      "Loss of the function 96.87023856683052\n",
      "Loss of the function 96.18421808021967\n",
      "Loss of the function 95.53567799116328\n",
      "Loss of the function 94.92162442960318\n",
      "Loss of the function 94.33931571711922\n",
      "Loss of the function 93.78624090084651\n",
      "Loss of the function 93.26010012098448\n",
      "Loss of the function 92.75878665502474\n",
      "Loss of the function 92.28037049525628\n",
      "Loss of the function 91.82308332838765\n",
      "Loss of the function 91.38530479735644\n",
      "Loss of the function 90.96554993566278\n"
     ]
    },
    {
     "data": {
      "image/png": "[encoded data removed]",
      "text/plain": [
       "<Figure size 432x288 with 1 Axes>"
      ]
     },
     "metadata": {
      "needs_background": "light"
     },
     "output_type": "display_data"
    }
   ],
   "source": [
    "loss_prox = proximate_grad(X,y,beta,alpha,0.00000001,max_iter = 600)"
   ]
  },
  {
   "cell_type": "code",
   "execution_count": 50,
   "metadata": {
    "collapsed": true,
    "jupyter": {
     "outputs_hidden": true
    }
   },
   "outputs": [
    {
     "name": "stdout",
     "output_type": "stream",
     "text": [
      "Loss of the function 74228.50601185921\n",
      "Loss of the function 511.1234393655867\n",
      "Loss of the function 304.5527356235796\n",
      "Loss of the function 199.51462899885018\n",
      "Loss of the function 130.4050871167346\n",
      "Loss of the function 98.93583242989229\n",
      "Loss of the function 92.41059228832694\n",
      "Loss of the function 91.82181207349916\n",
      "Loss of the function 87.87555527432701\n",
      "Loss of the function 81.15061416957475\n",
      "Loss of the function 75.06084587975242\n",
      "Loss of the function 70.94223792810638\n",
      "Loss of the function 68.07437765912428\n",
      "Loss of the function 65.07020660393727\n",
      "Loss of the function 61.86228651776299\n",
      "Loss of the function 59.428183024612046\n",
      "Loss of the function 57.65280324727287\n",
      "Loss of the function 56.081620747812494\n",
      "Loss of the function 54.40390997545745\n",
      "Loss of the function 52.91640100217976\n",
      "Loss of the function 51.741785467088555\n",
      "Loss of the function 50.78614329473688\n",
      "Loss of the function 49.84600933707758\n",
      "Loss of the function 48.72987160415919\n",
      "Loss of the function 47.519220805417476\n",
      "Loss of the function 46.40071530407841\n",
      "Loss of the function 45.33351015538376\n",
      "Loss of the function 44.21609594149138\n",
      "Loss of the function 43.05569080329262\n",
      "Loss of the function 41.93455882272851\n",
      "Loss of the function 40.983081673714054\n",
      "Loss of the function 40.23247756659984\n",
      "Loss of the function 39.73375094509415\n",
      "Loss of the function 39.224838356457\n",
      "Loss of the function 38.730802572100444\n",
      "Loss of the function 38.265393815682586\n",
      "Loss of the function 37.82107744241565\n",
      "Loss of the function 37.38622623212884\n",
      "Loss of the function 36.95764093318287\n",
      "Loss of the function 36.533211308025464\n",
      "Loss of the function 36.10239788350973\n",
      "Loss of the function 35.652310053894574\n",
      "Loss of the function 35.18127968749702\n",
      "Loss of the function 34.701138679949864\n",
      "Loss of the function 34.2261344634613\n",
      "Loss of the function 33.763088281048596\n",
      "Loss of the function 33.328518591741926\n",
      "Loss of the function 32.94209948557044\n",
      "Loss of the function 32.588758624115705\n",
      "Loss of the function 32.35363975426592\n",
      "Loss of the function 32.10894017893653\n",
      "Loss of the function 31.849827102223426\n",
      "Loss of the function 31.577874667830677\n",
      "Loss of the function 31.298841304913054\n",
      "Loss of the function 31.017857463089676\n",
      "Loss of the function 30.737391444545658\n",
      "Loss of the function 30.45835337771653\n",
      "Loss of the function 30.180918372532215\n",
      "Loss of the function 29.903755983373667\n",
      "Loss of the function 29.623844555618444\n"
     ]
    },
    {
     "data": {
      "image/png": "[encoded data removed]",
      "text/plain": [
       "<Figure size 432x288 with 1 Axes>"
      ]
     },
     "metadata": {
      "needs_background": "light"
     },
     "output_type": "display_data"
    }
   ],
   "source": [
    "nest_loss = Nesterov(X,y,beta,alpha,0.00000001,max_iter = 600)"
   ]
  },
  {
   "cell_type": "code",
   "execution_count": 68,
   "metadata": {
    "collapsed": true,
    "jupyter": {
     "outputs_hidden": true
    }
   },
   "outputs": [
    {
     "name": "stdout",
     "output_type": "stream",
     "text": [
      "Loss of the function 354.92109553197173\n",
      "Loss of the function 77.14810588922019\n",
      "Loss of the function 75.10669190214126\n",
      "Loss of the function 73.24487811803549\n",
      "Loss of the function 27.646640792578285\n",
      "Loss of the function 17.51228968472926\n",
      "Loss of the function 6.892833203136669\n",
      "Loss of the function 5.836551794673458\n",
      "Loss of the function 6.477085513484386\n",
      "Loss of the function 6.742480554629003\n",
      "Loss of the function 6.741690250594599\n",
      "Loss of the function 6.7407793312530355\n",
      "Loss of the function 6.739762666288175\n",
      "Loss of the function 6.73865036073224\n",
      "Loss of the function 6.737450063633373\n",
      "Loss of the function 6.736168094768824\n",
      "Loss of the function 6.734810002856953\n",
      "Loss of the function 6.733380844498267\n",
      "Loss of the function 6.389101112092054\n",
      "Loss of the function 6.39035974862879\n",
      "Loss of the function 6.3914778308622395\n",
      "Loss of the function 6.392561341374467\n",
      "Loss of the function 6.3936105940298855\n",
      "Loss of the function 6.394626547577573\n",
      "Loss of the function 6.395610442983755\n",
      "Loss of the function 6.396563626897002\n",
      "Loss of the function 6.397487466058836\n",
      "Loss of the function 6.398383306257128\n",
      "Loss of the function 6.399252453018491\n",
      "Loss of the function 6.400096162940042\n",
      "Loss of the function 6.400915640319726\n",
      "Loss of the function 6.401712036389459\n",
      "Loss of the function 6.402486449807731\n",
      "Loss of the function 6.403239927769928\n",
      "Loss of the function 6.403973467395962\n",
      "Loss of the function 6.404688017605134\n",
      "Loss of the function 6.467655915993838\n",
      "Loss of the function 6.46797229042923\n",
      "Loss of the function 6.468272971187522\n",
      "Loss of the function 6.494605454659416\n",
      "Loss of the function 6.495110283346994\n",
      "Loss of the function 6.4955945461503255\n",
      "Loss of the function 6.49606092792402\n",
      "Loss of the function 6.496510628323172\n",
      "Loss of the function 6.496944589392265\n",
      "Loss of the function 6.497363610401269\n",
      "Loss of the function 6.49776840453641\n",
      "Loss of the function 6.498159627224351\n",
      "Loss of the function 6.49853789089919\n",
      "Loss of the function 6.498903772656064\n",
      "Loss of the function 6.499257818762732\n",
      "Loss of the function 6.499600547473309\n",
      "Loss of the function 6.499932451014656\n",
      "Loss of the function 6.500253997151734\n",
      "Loss of the function 6.500565630461393\n",
      "Loss of the function 6.500867773547538\n",
      "Loss of the function 6.501160828176531\n",
      "Loss of the function 6.501445176213803\n",
      "Loss of the function 6.501721180735833\n",
      "Loss of the function 6.501989186840505\n"
     ]
    },
    {
     "data": {
      "image/png": "[encoded data removed]",
      "text/plain": [
       "<Figure size 432x288 with 1 Axes>"
      ]
     },
     "metadata": {
      "needs_background": "light"
     },
     "output_type": "display_data"
    }
   ],
   "source": [
    "admm_los = ADMM(X,y,beta,alpha,10,max_iter = 600)"
   ]
  },
  {
   "cell_type": "markdown",
   "metadata": {},
   "source": [
    "### Porównanie prędkości algorytmów dla dancyh i tych samych parametrów kary i iteracji"
   ]
  },
  {
   "cell_type": "code",
   "execution_count": 69,
   "metadata": {},
   "outputs": [
    {
     "data": {
      "text/plain": [
       "Text(0, 0.5, 'Loss')"
      ]
     },
     "execution_count": 69,
     "metadata": {},
     "output_type": "execute_result"
    },
    {
     "data": {
      "image/png": "[encoded data removed]",
      "text/plain": [
       "<Figure size 432x288 with 1 Axes>"
      ]
     },
     "metadata": {
      "needs_background": "light"
     },
     "output_type": "display_data"
    }
   ],
   "source": [
    "    plt.semilogy(np.arange(len(loss_prox)),loss_prox,'m',linewidth = 2, label = 'Prox function')\n",
    "    plt.semilogy(np.arange(len(nest_loss)),nest_loss,'b',linewidth = 2, label = 'Nesterov acceleration')\n",
    "    plt.semilogy(np.arange(len(admm_los)),admm_los,'r--',linewidth = 2, label = 'ADMM')\n",
    "    plt.legend(prop={'size':12})\n",
    "    plt.xlabel('Iteration')\n",
    "    plt.ylabel('Loss')"
   ]
  },
  {
   "cell_type": "markdown",
   "metadata": {},
   "source": [
    "# Cross validation"
   ]
  },
  {
   "cell_type": "markdown",
   "metadata": {},
   "source": [
    "Chce znaleść najlepsze alpha(czyli $\\lambda$ w lasso) wieć podzeliłem dane na zbiór treningowy walidacyjny i testowy.\n",
    "Na treningowym szukam optymalej $\\beta$ i sprawdzam jak model działa na validacyjnym. Na końcu zachowuje paramter który najlepiej sprawdził się na zbioże walidacyjnym. W ramach ciekawości sprawdzam też jak działa na testowym. Wiem że tego się tak nie robi ale byłem ciekaw czy zeczywiście walidacja zadziała prawidłowo, zdaję sobie sprawę, że generalnie nie wolno stosować takiej metody."
   ]
  },
  {
   "cell_type": "code",
   "execution_count": 7,
   "metadata": {},
   "outputs": [],
   "source": [
    "from sklearn.model_selection import train_test_split"
   ]
  },
  {
   "cell_type": "code",
   "execution_count": 32,
   "metadata": {},
   "outputs": [],
   "source": [
    "def ADMM(X,y,beta,alpha,rho,max_iter = 10):\n",
    "    \n",
    "    m,n = X.shape\n",
    "\n",
    "    #w,v  = np.linalg.eig(X.T @ X)\n",
    "    u = np.array([0]*n)\n",
    "    zhat = np.array([0]*n)\n",
    "\n",
    "# coeficients \n",
    "    #alpha = 0.5\n",
    "    #rho = 0.1 #1/abs(w).max()\n",
    "\n",
    "\n",
    "#precomputing\n",
    "\n",
    "    left_beta = np.linalg.inv(X.T @ X + rho*np.identity(n))\n",
    "    #left_beta.shape\n",
    "\n",
    "    Xty = X.T @ y \n",
    "    #Xty.shape\n",
    "\n",
    "    admm_loss = []\n",
    "    admm_loss.append(loss_function(X,y,beta,alpha))\n",
    "    for i in range(max_iter):\n",
    "        \n",
    "        loss = loss_function(X,y,zhat,alpha)\n",
    "   #     if i % 10 == 0:\n",
    "   #         print(f\"Loss of the function {loss}\")\n",
    "        admm_loss.append(loss)\n",
    "\n",
    "        \"x minimisation step via posterier OLS\"\n",
    "        beta = left_beta @ (Xty + rho*(zhat - u))\n",
    "\n",
    "        \"z minimisation via soft-thresholding\"\n",
    "        zhat =softmax_lasso(alpha/rho,beta + u )#Sthresh(beta + u, alpha*rho)\n",
    "       # softmax_lasso(alpha/rho,beta + u ) #Sthresh(beta + u, alpha/rho)\n",
    "\n",
    "        \"mulitplier update\"\n",
    "        u = u + beta - zhat\n",
    "        \n",
    "\n",
    "\n",
    "\n",
    "   # plt.semilogy(np.arange(len(admm_loss)),admm_loss,'r--',linewidth = 2, label = 'ADMM')\n",
    "   # plt.legend(prop={'size':12})\n",
    "   # plt.xlabel('Iteration')\n",
    "   # plt.ylabel('Loss')\n",
    "    \n",
    "    return admm_loss, zhat"
   ]
  },
  {
   "cell_type": "code",
   "execution_count": 85,
   "metadata": {
    "collapsed": true,
    "jupyter": {
     "outputs_hidden": true
    }
   },
   "outputs": [
    {
     "name": "stdout",
     "output_type": "stream",
     "text": [
      "Loss of the function 354.92109553197173\n",
      "Loss of the function 77.14810588922019\n",
      "Loss of the function 75.10669190214126\n",
      "Loss of the function 73.24487811803549\n",
      "Loss of the function 27.646640792578285\n",
      "Loss of the function 17.51228968472926\n",
      "Loss of the function 6.892833203136669\n",
      "Loss of the function 5.836551794673458\n",
      "Loss of the function 6.477085513484386\n",
      "Loss of the function 6.742480554629003\n",
      "Loss of the function 6.741690250594599\n",
      "Loss of the function 6.7407793312530355\n",
      "Loss of the function 6.739762666288175\n",
      "Loss of the function 6.73865036073224\n",
      "Loss of the function 6.737450063633373\n",
      "Loss of the function 6.736168094768824\n",
      "Loss of the function 6.734810002856953\n",
      "Loss of the function 6.733380844498267\n",
      "Loss of the function 6.389101112092054\n",
      "Loss of the function 6.39035974862879\n",
      "Loss of the function 6.3914778308622395\n",
      "Loss of the function 6.392561341374467\n",
      "Loss of the function 6.3936105940298855\n",
      "Loss of the function 6.394626547577573\n",
      "Loss of the function 6.395610442983755\n",
      "Loss of the function 6.396563626897002\n",
      "Loss of the function 6.397487466058836\n",
      "Loss of the function 6.398383306257128\n",
      "Loss of the function 6.399252453018491\n",
      "Loss of the function 6.400096162940042\n",
      "Loss of the function 6.400915640319726\n",
      "Loss of the function 6.401712036389459\n",
      "Loss of the function 6.402486449807731\n",
      "Loss of the function 6.403239927769928\n",
      "Loss of the function 6.403973467395962\n",
      "Loss of the function 6.404688017605134\n",
      "Loss of the function 6.467655915993838\n",
      "Loss of the function 6.46797229042923\n",
      "Loss of the function 6.468272971187522\n",
      "Loss of the function 6.494605454659416\n",
      "Loss of the function 6.495110283346994\n",
      "Loss of the function 6.4955945461503255\n",
      "Loss of the function 6.49606092792402\n",
      "Loss of the function 6.496510628323172\n",
      "Loss of the function 6.496944589392265\n",
      "Loss of the function 6.497363610401269\n",
      "Loss of the function 6.49776840453641\n",
      "Loss of the function 6.498159627224351\n",
      "Loss of the function 6.49853789089919\n",
      "Loss of the function 6.498903772656064\n",
      "Loss of the function 6.499257818762732\n",
      "Loss of the function 6.499600547473309\n",
      "Loss of the function 6.499932451014656\n",
      "Loss of the function 6.500253997151734\n",
      "Loss of the function 6.500565630461393\n",
      "Loss of the function 6.500867773547538\n",
      "Loss of the function 6.501160828176531\n",
      "Loss of the function 6.501445176213803\n",
      "Loss of the function 6.501721180735833\n",
      "Loss of the function 6.501989186840505\n"
     ]
    },
    {
     "data": {
      "text/plain": [
       "array([ 0.        , -0.02233746, -0.        ,  0.09858094, -0.        ,\n",
       "        0.0042711 ,  0.        ,  0.12187619,  0.13399655,  0.25935667,\n",
       "        0.23042919,  0.02777468,  1.95067843,  0.24203264, -0.05014927])"
      ]
     },
     "execution_count": 85,
     "metadata": {},
     "output_type": "execute_result"
    },
    {
     "data": {
      "image/png": "[encoded data removed]",
      "text/plain": [
       "<Figure size 432x288 with 1 Axes>"
      ]
     },
     "metadata": {
      "needs_background": "light"
     },
     "output_type": "display_data"
    }
   ],
   "source": []
  },
  {
   "cell_type": "code",
   "execution_count": 83,
   "metadata": {},
   "outputs": [
    {
     "data": {
      "text/plain": [
       "array([ 0.        , -0.02233746, -0.        ,  0.09858094, -0.        ,\n",
       "        0.0042711 ,  0.        ,  0.12187619,  0.13399655,  0.25935667,\n",
       "        0.23042919,  0.02777468,  1.95067843,  0.24203264, -0.05014927])"
      ]
     },
     "execution_count": 83,
     "metadata": {},
     "output_type": "execute_result"
    }
   ],
   "source": []
  },
  {
   "cell_type": "code",
   "execution_count": 186,
   "metadata": {},
   "outputs": [],
   "source": [
    "X_train, X_test, y_train, y_test = train_test_split(X, y, test_size=0.2, random_state=40)"
   ]
  },
  {
   "cell_type": "code",
   "execution_count": 74,
   "metadata": {},
   "outputs": [
    {
     "data": {
      "text/plain": [
       "((4323, 15), (17290, 15), 0.2500289184499711)"
      ]
     },
     "execution_count": 74,
     "metadata": {},
     "output_type": "execute_result"
    }
   ],
   "source": [
    "X_test.shape, X_train.shape,X_test.shape[0]/X_train.shape[0]"
   ]
  },
  {
   "cell_type": "code",
   "execution_count": 187,
   "metadata": {},
   "outputs": [],
   "source": [
    "X_train , X_valid, y_train, y_valid = train_test_split(X_train, y_train, test_size=0.25, random_state=2020)"
   ]
  },
  {
   "cell_type": "code",
   "execution_count": 77,
   "metadata": {},
   "outputs": [
    {
     "data": {
      "text/plain": [
       "(4323, 15)"
      ]
     },
     "execution_count": 77,
     "metadata": {},
     "output_type": "execute_result"
    }
   ],
   "source": [
    "X_valid.shape"
   ]
  },
  {
   "cell_type": "code",
   "execution_count": 87,
   "metadata": {},
   "outputs": [
    {
     "data": {
      "text/plain": [
       "array([ 0. ,  0.1,  0.2,  0.3,  0.4,  0.5,  0.6,  0.7,  0.8,  0.9,  1. ,\n",
       "        1.1,  1.2,  1.3,  1.4,  1.5,  1.6,  1.7,  1.8,  1.9,  2. ,  2.1,\n",
       "        2.2,  2.3,  2.4,  2.5,  2.6,  2.7,  2.8,  2.9,  3. ,  3.1,  3.2,\n",
       "        3.3,  3.4,  3.5,  3.6,  3.7,  3.8,  3.9,  4. ,  4.1,  4.2,  4.3,\n",
       "        4.4,  4.5,  4.6,  4.7,  4.8,  4.9,  5. ,  5.1,  5.2,  5.3,  5.4,\n",
       "        5.5,  5.6,  5.7,  5.8,  5.9,  6. ,  6.1,  6.2,  6.3,  6.4,  6.5,\n",
       "        6.6,  6.7,  6.8,  6.9,  7. ,  7.1,  7.2,  7.3,  7.4,  7.5,  7.6,\n",
       "        7.7,  7.8,  7.9,  8. ,  8.1,  8.2,  8.3,  8.4,  8.5,  8.6,  8.7,\n",
       "        8.8,  8.9,  9. ,  9.1,  9.2,  9.3,  9.4,  9.5,  9.6,  9.7,  9.8,\n",
       "        9.9, 10. ])"
      ]
     },
     "execution_count": 87,
     "metadata": {},
     "output_type": "execute_result"
    }
   ],
   "source": [
    "np.arange(0,10+1e-3,0.1)"
   ]
  },
  {
   "cell_type": "code",
   "execution_count": 56,
   "metadata": {},
   "outputs": [],
   "source": [
    "def cross_validation(X_treningowy,X_validacyjny,X_testowy,y_treningowy,y_validacyjny,y_testowy):\n",
    "    beta_optimum = 0 \n",
    "    loss_optimum = 100000\n",
    "    beta = np.random.randint(10,size= (15,))\n",
    "    #alpha_opt = 0\n",
    "    loss = []\n",
    "    \n",
    "    for alpha in np.arange(0.5,5+1e-3,0.1):\n",
    "        \n",
    "        admm_loss,beta_est = ADMM(X_treningowy,y_treningowy,beta,alpha,5,max_iter = 100)#20, 100\n",
    "        loss_est = loss_function(X_validacyjny,y_validacyjny,beta_est,alpha)\n",
    "        loss.append(loss_est)\n",
    "        print(f\"Dla alpha = {round(alpha,2)},validation loss = {loss_est}, test loss = {round(loss_function(X_testowy,y_testowy,beta_est,alpha),2)}\")\n",
    "        \n",
    "        if loss_est < loss_optimum:\n",
    "            loss_optimum = loss_est\n",
    "            beta_optimum = beta_est\n",
    "            alpha_opt = alpha\n",
    "            m = f\"New optimal alpha {round(alpha,2)} where validation loss is {round(loss_est,2)}\"\n",
    "            print('{0}\\n{1}\\n{0}'.format('-' * len(m), m))\n",
    "        \n",
    "        plt.scatter(np.arange(len(loss)),loss,label = \"Validation_loss\")\n",
    "        plt.xlabel('Alpha_value')\n",
    "        plt.ylabel('Loss')\n",
    "              \n",
    "    return beta_optimum"
   ]
  },
  {
   "cell_type": "code",
   "execution_count": 189,
   "metadata": {},
   "outputs": [
    {
     "name": "stdout",
     "output_type": "stream",
     "text": [
      "Dla alpha = 0.5,validation loss = 7.638542508592005, test loss = 7.64\n",
      "---------------------------------------------------\n",
      "New optimal alpha 0.5 where validation loss is 7.64\n",
      "---------------------------------------------------\n",
      "Dla alpha = 0.6,validation loss = 8.76989705996164, test loss = 8.76\n",
      "Dla alpha = 0.7,validation loss = 9.803179580838092, test loss = 9.79\n",
      "Dla alpha = 0.8,validation loss = 10.762415083602882, test loss = 10.77\n",
      "Dla alpha = 0.9,validation loss = 11.759155006571184, test loss = 11.74\n",
      "Dla alpha = 1.0,validation loss = 11.89422292520918, test loss = 11.89\n",
      "Dla alpha = 1.1,validation loss = 12.275722431586052, test loss = 12.27\n",
      "Dla alpha = 1.2,validation loss = 12.469731942352755, test loss = 12.47\n",
      "Dla alpha = 1.3,validation loss = 5.093967923040121, test loss = 5.1\n",
      "---------------------------------------------------\n",
      "New optimal alpha 1.3 where validation loss is 5.09\n",
      "---------------------------------------------------\n",
      "Dla alpha = 1.4,validation loss = 5.462307784507138, test loss = 5.47\n",
      "Dla alpha = 1.5,validation loss = 6.348075016122683, test loss = 6.32\n",
      "Dla alpha = 1.6,validation loss = 6.199322805235172, test loss = 6.21\n",
      "Dla alpha = 1.7,validation loss = 9.459554432175842, test loss = 9.41\n",
      "Dla alpha = 1.8,validation loss = 14.571266463653927, test loss = 14.47\n",
      "Dla alpha = 1.9,validation loss = 7.4306735478273165, test loss = 7.43\n",
      "Dla alpha = 2.0,validation loss = 8.112112971646352, test loss = 8.11\n",
      "Dla alpha = 2.1,validation loss = 8.343424616864509, test loss = 8.34\n",
      "Dla alpha = 2.2,validation loss = 11.317406283894355, test loss = 11.34\n",
      "Dla alpha = 2.3,validation loss = 12.606746032797489, test loss = 12.65\n",
      "Dla alpha = 2.4,validation loss = 12.498490127306262, test loss = 12.54\n",
      "Dla alpha = 2.5,validation loss = 12.743312227686566, test loss = 12.78\n",
      "Dla alpha = 2.6,validation loss = 12.187958467795124, test loss = 12.2\n",
      "Dla alpha = 2.7,validation loss = 11.10754599626813, test loss = 11.1\n",
      "Dla alpha = 2.8,validation loss = 11.50559342891731, test loss = 11.5\n",
      "Dla alpha = 2.9,validation loss = 15.814297124119694, test loss = 15.74\n",
      "Dla alpha = 3.0,validation loss = 10.516871283344178, test loss = 10.53\n",
      "Dla alpha = 3.1,validation loss = 14.965873966029523, test loss = 14.91\n",
      "Dla alpha = 3.2,validation loss = 15.317932331899215, test loss = 15.26\n",
      "Dla alpha = 3.3,validation loss = 15.611035895593997, test loss = 15.56\n",
      "Dla alpha = 3.4,validation loss = 12.375818349231409, test loss = 12.39\n",
      "Dla alpha = 3.5,validation loss = 12.7238509688088, test loss = 12.73\n",
      "Dla alpha = 3.6,validation loss = 13.073494544585756, test loss = 13.08\n",
      "Dla alpha = 3.7,validation loss = 13.422158909402969, test loss = 13.43\n",
      "Dla alpha = 3.8,validation loss = 13.768470028154605, test loss = 13.78\n",
      "Dla alpha = 3.9,validation loss = 14.11614707009365, test loss = 14.13\n",
      "Dla alpha = 4.0,validation loss = 16.873851446006682, test loss = 16.84\n",
      "Dla alpha = 4.1,validation loss = 17.219196705960414, test loss = 17.18\n",
      "Dla alpha = 4.2,validation loss = 20.69993055983044, test loss = 20.76\n",
      "Dla alpha = 4.3,validation loss = 21.749119098981257, test loss = 21.82\n",
      "Dla alpha = 4.4,validation loss = 18.995559793352125, test loss = 19.05\n",
      "Dla alpha = 4.5,validation loss = 19.762332059425486, test loss = 19.82\n",
      "Dla alpha = 4.6,validation loss = 32.0570409574213, test loss = 31.93\n",
      "Dla alpha = 4.7,validation loss = 19.257176850750607, test loss = 19.31\n",
      "Dla alpha = 4.8,validation loss = 19.605304210166853, test loss = 19.66\n",
      "Dla alpha = 4.9,validation loss = 25.02622613308367, test loss = 25.11\n",
      "Dla alpha = 5.0,validation loss = 20.08742318673831, test loss = 20.14\n"
     ]
    },
    {
     "data": {
      "image/png": "[encoded data removed]",
      "text/plain": [
       "<Figure size 432x288 with 1 Axes>"
      ]
     },
     "metadata": {
      "needs_background": "light"
     },
     "output_type": "display_data"
    }
   ],
   "source": [
    "super_beta = cross_validation(X_train,X_valid,X_test,y_train,y_valid,y_test)# rho = 20"
   ]
  },
  {
   "cell_type": "code",
   "execution_count": 168,
   "metadata": {},
   "outputs": [
    {
     "data": {
      "text/plain": [
       "1150.7865844246282"
      ]
     },
     "execution_count": 168,
     "metadata": {},
     "output_type": "execute_result"
    }
   ],
   "source": [
    "np.sum((y_test - X_test @ super_beta)**2)"
   ]
  },
  {
   "cell_type": "markdown",
   "metadata": {},
   "source": [
    "# Porównanie wychodzi całkiem nieźle, niestety poprzez wcześniejsze przekształcenia podane są jako potegi 2. Te potęgi są na pzoiomie 18 - 20 więc mała różnica w estymowanej potędze przekłada się na dużą różnicę w cenie."
   ]
  },
  {
   "cell_type": "code",
   "execution_count": 190,
   "metadata": {},
   "outputs": [
    {
     "data": {
      "text/html": [
       "<div>\n",
       "<style scoped>\n",
       "    .dataframe tbody tr th:only-of-type {\n",
       "        vertical-align: middle;\n",
       "    }\n",
       "\n",
       "    .dataframe tbody tr th {\n",
       "        vertical-align: top;\n",
       "    }\n",
       "\n",
       "    .dataframe thead th {\n",
       "        text-align: right;\n",
       "    }\n",
       "</style>\n",
       "<table border=\"1\" class=\"dataframe\">\n",
       "  <thead>\n",
       "    <tr style=\"text-align: right;\">\n",
       "      <th></th>\n",
       "      <th>Price</th>\n",
       "      <th>Esitmated_price</th>\n",
       "      <th>Real Price</th>\n",
       "      <th>Estim_real</th>\n",
       "    </tr>\n",
       "  </thead>\n",
       "  <tbody>\n",
       "    <tr>\n",
       "      <th>21568</th>\n",
       "      <td>20.697103</td>\n",
       "      <td>19.515946</td>\n",
       "      <td>1700000.0</td>\n",
       "      <td>749695.887578</td>\n",
       "    </tr>\n",
       "    <tr>\n",
       "      <th>3040</th>\n",
       "      <td>19.542790</td>\n",
       "      <td>19.232977</td>\n",
       "      <td>763776.0</td>\n",
       "      <td>616173.392805</td>\n",
       "    </tr>\n",
       "    <tr>\n",
       "      <th>198</th>\n",
       "      <td>18.747144</td>\n",
       "      <td>18.284516</td>\n",
       "      <td>440000.0</td>\n",
       "      <td>319291.806559</td>\n",
       "    </tr>\n",
       "    <tr>\n",
       "      <th>16456</th>\n",
       "      <td>18.842301</td>\n",
       "      <td>18.449270</td>\n",
       "      <td>470000.0</td>\n",
       "      <td>357918.082771</td>\n",
       "    </tr>\n",
       "    <tr>\n",
       "      <th>19502</th>\n",
       "      <td>18.763446</td>\n",
       "      <td>18.702836</td>\n",
       "      <td>445000.0</td>\n",
       "      <td>426692.056697</td>\n",
       "    </tr>\n",
       "  </tbody>\n",
       "</table>\n",
       "</div>"
      ],
      "text/plain": [
       "           Price  Esitmated_price  Real Price     Estim_real\n",
       "21568  20.697103        19.515946   1700000.0  749695.887578\n",
       "3040   19.542790        19.232977    763776.0  616173.392805\n",
       "198    18.747144        18.284516    440000.0  319291.806559\n",
       "16456  18.842301        18.449270    470000.0  357918.082771\n",
       "19502  18.763446        18.702836    445000.0  426692.056697"
      ]
     },
     "execution_count": 190,
     "metadata": {},
     "output_type": "execute_result"
    }
   ],
   "source": [
    "y_est = X_test @ super_beta\n",
    "final_dict = {\"Price\":y_test,\"Esitmated_price\":y_est,\"Real Price\":2**y_test,\"Estim_real\": 2**y_est}\n",
    "pd.DataFrame(final_dict).head()"
   ]
  },
  {
   "cell_type": "markdown",
   "metadata": {},
   "source": [
    "## Tutaj po prostu podziele największe parametry przez 1000."
   ]
  },
  {
   "cell_type": "code",
   "execution_count": 13,
   "metadata": {},
   "outputs": [],
   "source": [
    "data = pd.read_csv(\"kc_house_data.csv\")\n",
    "y = data['price']/1000\n",
    "X = data.drop(['id', 'date',\"zipcode\",\"price\",'yr_built','yr_renovated','long'], axis = 1) \n",
    "alpha = 2\n",
    "X.insert(loc=0, column='intercept', value=np.ones_like(X.iloc[:,0]))\n",
    "beta = np.random.randint(10,size= (15,))\n",
    "X = X.apply(lambda x: x/1000 if (x.name == 'sqft_living') or (x.name =='sqft_lot') or (x.name =='sqft_above') or (x.name =='sqft_basement') or (x.name =='lat') or (x.name =='long') or (x.name =='sqft_living15') or (x.name =='sqft_lot15') else x)\n",
    "X = X.fillna(0)\n",
    "X[\"sqft_basement\"] = X.sqft_basement.replace(-np.inf,0)"
   ]
  },
  {
   "cell_type": "code",
   "execution_count": 14,
   "metadata": {},
   "outputs": [
    {
     "data": {
      "text/html": [
       "<div>\n",
       "<style scoped>\n",
       "    .dataframe tbody tr th:only-of-type {\n",
       "        vertical-align: middle;\n",
       "    }\n",
       "\n",
       "    .dataframe tbody tr th {\n",
       "        vertical-align: top;\n",
       "    }\n",
       "\n",
       "    .dataframe thead th {\n",
       "        text-align: right;\n",
       "    }\n",
       "</style>\n",
       "<table border=\"1\" class=\"dataframe\">\n",
       "  <thead>\n",
       "    <tr style=\"text-align: right;\">\n",
       "      <th></th>\n",
       "      <th>intercept</th>\n",
       "      <th>bedrooms</th>\n",
       "      <th>bathrooms</th>\n",
       "      <th>sqft_living</th>\n",
       "      <th>sqft_lot</th>\n",
       "      <th>floors</th>\n",
       "      <th>waterfront</th>\n",
       "      <th>view</th>\n",
       "      <th>condition</th>\n",
       "      <th>grade</th>\n",
       "      <th>sqft_above</th>\n",
       "      <th>sqft_basement</th>\n",
       "      <th>lat</th>\n",
       "      <th>sqft_living15</th>\n",
       "      <th>sqft_lot15</th>\n",
       "    </tr>\n",
       "  </thead>\n",
       "  <tbody>\n",
       "    <tr>\n",
       "      <th>count</th>\n",
       "      <td>21613.0</td>\n",
       "      <td>21613.000000</td>\n",
       "      <td>21613.000000</td>\n",
       "      <td>21613.000000</td>\n",
       "      <td>21613.000000</td>\n",
       "      <td>21613.000000</td>\n",
       "      <td>21613.000000</td>\n",
       "      <td>21613.000000</td>\n",
       "      <td>21613.000000</td>\n",
       "      <td>21613.000000</td>\n",
       "      <td>21613.000000</td>\n",
       "      <td>21613.000000</td>\n",
       "      <td>21613.000000</td>\n",
       "      <td>21613.000000</td>\n",
       "      <td>21613.000000</td>\n",
       "    </tr>\n",
       "    <tr>\n",
       "      <th>mean</th>\n",
       "      <td>1.0</td>\n",
       "      <td>3.370842</td>\n",
       "      <td>2.114757</td>\n",
       "      <td>2.079900</td>\n",
       "      <td>15.106968</td>\n",
       "      <td>1.494309</td>\n",
       "      <td>0.007542</td>\n",
       "      <td>0.234303</td>\n",
       "      <td>3.409430</td>\n",
       "      <td>7.656873</td>\n",
       "      <td>1.788391</td>\n",
       "      <td>0.291509</td>\n",
       "      <td>0.047560</td>\n",
       "      <td>1.986552</td>\n",
       "      <td>12.768456</td>\n",
       "    </tr>\n",
       "    <tr>\n",
       "      <th>std</th>\n",
       "      <td>0.0</td>\n",
       "      <td>0.930062</td>\n",
       "      <td>0.770163</td>\n",
       "      <td>0.918441</td>\n",
       "      <td>41.420512</td>\n",
       "      <td>0.539989</td>\n",
       "      <td>0.086517</td>\n",
       "      <td>0.766318</td>\n",
       "      <td>0.650743</td>\n",
       "      <td>1.175459</td>\n",
       "      <td>0.828091</td>\n",
       "      <td>0.442575</td>\n",
       "      <td>0.000139</td>\n",
       "      <td>0.685391</td>\n",
       "      <td>27.304180</td>\n",
       "    </tr>\n",
       "    <tr>\n",
       "      <th>min</th>\n",
       "      <td>1.0</td>\n",
       "      <td>0.000000</td>\n",
       "      <td>0.000000</td>\n",
       "      <td>0.290000</td>\n",
       "      <td>0.520000</td>\n",
       "      <td>1.000000</td>\n",
       "      <td>0.000000</td>\n",
       "      <td>0.000000</td>\n",
       "      <td>1.000000</td>\n",
       "      <td>1.000000</td>\n",
       "      <td>0.290000</td>\n",
       "      <td>0.000000</td>\n",
       "      <td>0.047156</td>\n",
       "      <td>0.399000</td>\n",
       "      <td>0.651000</td>\n",
       "    </tr>\n",
       "    <tr>\n",
       "      <th>25%</th>\n",
       "      <td>1.0</td>\n",
       "      <td>3.000000</td>\n",
       "      <td>1.750000</td>\n",
       "      <td>1.427000</td>\n",
       "      <td>5.040000</td>\n",
       "      <td>1.000000</td>\n",
       "      <td>0.000000</td>\n",
       "      <td>0.000000</td>\n",
       "      <td>3.000000</td>\n",
       "      <td>7.000000</td>\n",
       "      <td>1.190000</td>\n",
       "      <td>0.000000</td>\n",
       "      <td>0.047471</td>\n",
       "      <td>1.490000</td>\n",
       "      <td>5.100000</td>\n",
       "    </tr>\n",
       "    <tr>\n",
       "      <th>50%</th>\n",
       "      <td>1.0</td>\n",
       "      <td>3.000000</td>\n",
       "      <td>2.250000</td>\n",
       "      <td>1.910000</td>\n",
       "      <td>7.618000</td>\n",
       "      <td>1.500000</td>\n",
       "      <td>0.000000</td>\n",
       "      <td>0.000000</td>\n",
       "      <td>3.000000</td>\n",
       "      <td>7.000000</td>\n",
       "      <td>1.560000</td>\n",
       "      <td>0.000000</td>\n",
       "      <td>0.047572</td>\n",
       "      <td>1.840000</td>\n",
       "      <td>7.620000</td>\n",
       "    </tr>\n",
       "    <tr>\n",
       "      <th>75%</th>\n",
       "      <td>1.0</td>\n",
       "      <td>4.000000</td>\n",
       "      <td>2.500000</td>\n",
       "      <td>2.550000</td>\n",
       "      <td>10.688000</td>\n",
       "      <td>2.000000</td>\n",
       "      <td>0.000000</td>\n",
       "      <td>0.000000</td>\n",
       "      <td>4.000000</td>\n",
       "      <td>8.000000</td>\n",
       "      <td>2.210000</td>\n",
       "      <td>0.560000</td>\n",
       "      <td>0.047678</td>\n",
       "      <td>2.360000</td>\n",
       "      <td>10.083000</td>\n",
       "    </tr>\n",
       "    <tr>\n",
       "      <th>max</th>\n",
       "      <td>1.0</td>\n",
       "      <td>33.000000</td>\n",
       "      <td>8.000000</td>\n",
       "      <td>13.540000</td>\n",
       "      <td>1651.359000</td>\n",
       "      <td>3.500000</td>\n",
       "      <td>1.000000</td>\n",
       "      <td>4.000000</td>\n",
       "      <td>5.000000</td>\n",
       "      <td>13.000000</td>\n",
       "      <td>9.410000</td>\n",
       "      <td>4.820000</td>\n",
       "      <td>0.047778</td>\n",
       "      <td>6.210000</td>\n",
       "      <td>871.200000</td>\n",
       "    </tr>\n",
       "  </tbody>\n",
       "</table>\n",
       "</div>"
      ],
      "text/plain": [
       "       intercept      bedrooms     bathrooms   sqft_living      sqft_lot  \\\n",
       "count    21613.0  21613.000000  21613.000000  21613.000000  21613.000000   \n",
       "mean         1.0      3.370842      2.114757      2.079900     15.106968   \n",
       "std          0.0      0.930062      0.770163      0.918441     41.420512   \n",
       "min          1.0      0.000000      0.000000      0.290000      0.520000   \n",
       "25%          1.0      3.000000      1.750000      1.427000      5.040000   \n",
       "50%          1.0      3.000000      2.250000      1.910000      7.618000   \n",
       "75%          1.0      4.000000      2.500000      2.550000     10.688000   \n",
       "max          1.0     33.000000      8.000000     13.540000   1651.359000   \n",
       "\n",
       "             floors    waterfront          view     condition         grade  \\\n",
       "count  21613.000000  21613.000000  21613.000000  21613.000000  21613.000000   \n",
       "mean       1.494309      0.007542      0.234303      3.409430      7.656873   \n",
       "std        0.539989      0.086517      0.766318      0.650743      1.175459   \n",
       "min        1.000000      0.000000      0.000000      1.000000      1.000000   \n",
       "25%        1.000000      0.000000      0.000000      3.000000      7.000000   \n",
       "50%        1.500000      0.000000      0.000000      3.000000      7.000000   \n",
       "75%        2.000000      0.000000      0.000000      4.000000      8.000000   \n",
       "max        3.500000      1.000000      4.000000      5.000000     13.000000   \n",
       "\n",
       "         sqft_above  sqft_basement           lat  sqft_living15    sqft_lot15  \n",
       "count  21613.000000   21613.000000  21613.000000   21613.000000  21613.000000  \n",
       "mean       1.788391       0.291509      0.047560       1.986552     12.768456  \n",
       "std        0.828091       0.442575      0.000139       0.685391     27.304180  \n",
       "min        0.290000       0.000000      0.047156       0.399000      0.651000  \n",
       "25%        1.190000       0.000000      0.047471       1.490000      5.100000  \n",
       "50%        1.560000       0.000000      0.047572       1.840000      7.620000  \n",
       "75%        2.210000       0.560000      0.047678       2.360000     10.083000  \n",
       "max        9.410000       4.820000      0.047778       6.210000    871.200000  "
      ]
     },
     "execution_count": 14,
     "metadata": {},
     "output_type": "execute_result"
    }
   ],
   "source": [
    "X.describe()"
   ]
  },
  {
   "cell_type": "code",
   "execution_count": 17,
   "metadata": {},
   "outputs": [],
   "source": [
    "X_train, X_test, y_train, y_test = train_test_split(X, y, test_size=0.2, random_state=40)\n",
    "X_train , X_valid, y_train, y_valid = train_test_split(X_train, y_train, test_size=0.25, random_state=2020)"
   ]
  },
  {
   "cell_type": "code",
   "execution_count": 57,
   "metadata": {},
   "outputs": [
    {
     "name": "stdout",
     "output_type": "stream",
     "text": [
      "Dla alpha = 0.5,validation loss = 59625.306348830985, test loss = 52332.2\n",
      "-------------------------------------------------------\n",
      "New optimal alpha 0.5 where validation loss is 59625.31\n",
      "-------------------------------------------------------\n",
      "Dla alpha = 0.6,validation loss = 60191.110659173704, test loss = 52901.71\n",
      "Dla alpha = 0.7,validation loss = 60697.47436840749, test loss = 53408.07\n",
      "Dla alpha = 0.8,validation loss = 61144.35360937751, test loss = 53851.23\n",
      "Dla alpha = 0.9,validation loss = 61649.57825338081, test loss = 54356.45\n",
      "Dla alpha = 1.0,validation loss = 62154.24069502853, test loss = 54861.11\n",
      "Dla alpha = 1.1,validation loss = 62658.34089095444, test loss = 55365.2\n",
      "Dla alpha = 1.2,validation loss = 63161.878867568805, test loss = 55868.74\n",
      "Dla alpha = 1.3,validation loss = 63883.090352995925, test loss = 56563.84\n",
      "Dla alpha = 1.4,validation loss = 64385.53193085795, test loss = 57066.28\n",
      "Dla alpha = 1.5,validation loss = 64669.11944298369, test loss = 57375.96\n",
      "Dla alpha = 1.6,validation loss = 65170.4085183182, test loss = 57877.25\n",
      "Dla alpha = 1.7,validation loss = 66007.25934629905, test loss = 58660.52\n",
      "Dla alpha = 1.8,validation loss = 66507.45421593226, test loss = 59160.71\n",
      "Dla alpha = 1.9,validation loss = 66671.44121852535, test loss = 59378.27\n",
      "Dla alpha = 2.0,validation loss = 67170.4690012182, test loss = 59877.29\n",
      "Dla alpha = 2.1,validation loss = 67668.93040526425, test loss = 60375.75\n",
      "Dla alpha = 2.2,validation loss = 68166.82541889888, test loss = 60873.64\n",
      "Dla alpha = 2.3,validation loss = 68664.15405274578, test loss = 61370.96\n",
      "Dla alpha = 2.4,validation loss = 69160.91629727301, test loss = 61867.72\n",
      "Dla alpha = 2.5,validation loss = 69657.11216366795, test loss = 62363.91\n",
      "Dla alpha = 2.6,validation loss = 70152.74168649166, test loss = 62859.53\n",
      "Dla alpha = 2.7,validation loss = 70647.80470959829, test loss = 63354.59\n",
      "Dla alpha = 2.8,validation loss = 71142.30142194033, test loss = 63849.08\n",
      "Dla alpha = 2.9,validation loss = 71636.23174367855, test loss = 64343.01\n",
      "Dla alpha = 3.0,validation loss = 72129.59569243336, test loss = 64836.37\n",
      "Dla alpha = 3.1,validation loss = 72622.39324512437, test loss = 65329.16\n",
      "Dla alpha = 3.2,validation loss = 73114.62447419099, test loss = 65821.39\n",
      "Dla alpha = 3.3,validation loss = 73606.28925813385, test loss = 66313.05\n",
      "Dla alpha = 3.4,validation loss = 74097.3876618355, test loss = 66804.14\n",
      "Dla alpha = 3.5,validation loss = 74587.91967668469, test loss = 67294.67\n",
      "Dla alpha = 3.6,validation loss = 76376.3198739393, test loss = 68766.55\n",
      "Dla alpha = 3.7,validation loss = 78383.97554821691, test loss = 70833.57\n",
      "Dla alpha = 3.8,validation loss = 76512.11070048912, test loss = 69343.47\n",
      "Dla alpha = 3.9,validation loss = 77000.30635433174, test loss = 69831.66\n",
      "Dla alpha = 4.0,validation loss = 77487.93565091441, test loss = 70319.29\n",
      "Dla alpha = 4.1,validation loss = 80709.54990001739, test loss = 73074.93\n",
      "Dla alpha = 4.2,validation loss = 78461.49499682208, test loss = 71292.84\n",
      "Dla alpha = 4.3,validation loss = 78947.42511450418, test loss = 71778.76\n",
      "Dla alpha = 4.4,validation loss = 79432.78884525527, test loss = 72264.12\n",
      "Dla alpha = 4.5,validation loss = 79917.58617180589, test loss = 72748.92\n",
      "Dla alpha = 4.6,validation loss = 80401.81713310922, test loss = 73233.14\n",
      "Dla alpha = 4.7,validation loss = 80885.48171254742, test loss = 73716.8\n",
      "Dla alpha = 4.8,validation loss = 81368.57990471236, test loss = 74199.89\n",
      "Dla alpha = 4.9,validation loss = 81851.11172755403, test loss = 74682.42\n",
      "Dla alpha = 5.0,validation loss = 82333.07715072393, test loss = 75164.38\n"
     ]
    },
    {
     "data": {
      "image/png": "[encoded data removed]",
      "text/plain": [
       "<Figure size 432x288 with 1 Axes>"
      ]
     },
     "metadata": {
      "needs_background": "light"
     },
     "output_type": "display_data"
    }
   ],
   "source": [
    "super_beta = cross_validation(X_train,X_valid,X_test,y_train,y_valid,y_test)"
   ]
  },
  {
   "cell_type": "code",
   "execution_count": 42,
   "metadata": {},
   "outputs": [
    {
     "data": {
      "text/html": [
       "<div>\n",
       "<style scoped>\n",
       "    .dataframe tbody tr th:only-of-type {\n",
       "        vertical-align: middle;\n",
       "    }\n",
       "\n",
       "    .dataframe tbody tr th {\n",
       "        vertical-align: top;\n",
       "    }\n",
       "\n",
       "    .dataframe thead th {\n",
       "        text-align: right;\n",
       "    }\n",
       "</style>\n",
       "<table border=\"1\" class=\"dataframe\">\n",
       "  <thead>\n",
       "    <tr style=\"text-align: right;\">\n",
       "      <th></th>\n",
       "      <th>Price</th>\n",
       "      <th>Esitmated_price</th>\n",
       "      <th>Real Price</th>\n",
       "      <th>Estim_real</th>\n",
       "    </tr>\n",
       "  </thead>\n",
       "  <tbody>\n",
       "    <tr>\n",
       "      <th>21568</th>\n",
       "      <td>1700.000</td>\n",
       "      <td>1022.304474</td>\n",
       "      <td>1700000.0</td>\n",
       "      <td>1.022304e+06</td>\n",
       "    </tr>\n",
       "    <tr>\n",
       "      <th>3040</th>\n",
       "      <td>763.776</td>\n",
       "      <td>731.534638</td>\n",
       "      <td>763776.0</td>\n",
       "      <td>7.315346e+05</td>\n",
       "    </tr>\n",
       "    <tr>\n",
       "      <th>198</th>\n",
       "      <td>440.000</td>\n",
       "      <td>367.544572</td>\n",
       "      <td>440000.0</td>\n",
       "      <td>3.675446e+05</td>\n",
       "    </tr>\n",
       "    <tr>\n",
       "      <th>16456</th>\n",
       "      <td>470.000</td>\n",
       "      <td>426.558042</td>\n",
       "      <td>470000.0</td>\n",
       "      <td>4.265580e+05</td>\n",
       "    </tr>\n",
       "    <tr>\n",
       "      <th>19502</th>\n",
       "      <td>445.000</td>\n",
       "      <td>508.149987</td>\n",
       "      <td>445000.0</td>\n",
       "      <td>5.081500e+05</td>\n",
       "    </tr>\n",
       "  </tbody>\n",
       "</table>\n",
       "</div>"
      ],
      "text/plain": [
       "          Price  Esitmated_price  Real Price    Estim_real\n",
       "21568  1700.000      1022.304474   1700000.0  1.022304e+06\n",
       "3040    763.776       731.534638    763776.0  7.315346e+05\n",
       "198     440.000       367.544572    440000.0  3.675446e+05\n",
       "16456   470.000       426.558042    470000.0  4.265580e+05\n",
       "19502   445.000       508.149987    445000.0  5.081500e+05"
      ]
     },
     "execution_count": 42,
     "metadata": {},
     "output_type": "execute_result"
    }
   ],
   "source": [
    "y_est = X_test @ super_beta\n",
    "final_dict = {\"Price\":y_test,\"Esitmated_price\":y_est,\"Real Price\":y_test*1000,\"Estim_real\": y_est*1000}\n",
    "pd.DataFrame(final_dict).head()"
   ]
  },
  {
   "cell_type": "code",
   "execution_count": 60,
   "metadata": {},
   "outputs": [
    {
     "data": {
      "text/plain": [
       "array([-8.58278899e+02, -3.31661661e+01, -1.37525439e+01,  1.30112824e+02,\n",
       "        0.00000000e+00, -2.58848211e+00,  5.94469043e+02,  6.40203217e+01,\n",
       "        5.38960327e+01,  1.03684439e+02,  4.28991961e+01,  7.72136280e+01,\n",
       "        3.09196769e+03,  1.86988447e+01,  0.00000000e+00])"
      ]
     },
     "execution_count": 60,
     "metadata": {},
     "output_type": "execute_result"
    }
   ],
   "source": [
    "super_beta[abs(super_beta)< 1] = 0 \n",
    "super_beta"
   ]
  },
  {
   "cell_type": "markdown",
   "metadata": {},
   "source": [
    "Problem który sie tutaj pojawia to fakt że nasz model niechętnie zeruje współczynniki. Kara za niedposaowanie jest dużo bardziej znacząca niż kara za rozmiar współczynników więc nie mamy tyle zer co poprzednio."
   ]
  },
  {
   "cell_type": "markdown",
   "metadata": {},
   "source": [
    "## Wykonał i opracował Szymon Czop "
   ]
  }
 ],
 "metadata": {
  "kernelspec": {
   "display_name": "Python 3",
   "language": "python",
   "name": "python3"
  },
  "language_info": {
   "codemirror_mode": {
    "name": "ipython",
    "version": 3
   },
   "file_extension": ".py",
   "mimetype": "text/x-python",
   "name": "python",
   "nbconvert_exporter": "python",
   "pygments_lexer": "ipython3",
   "version": "3.7.3"
  }
 },
 "nbformat": 4,
 "nbformat_minor": 4
}
